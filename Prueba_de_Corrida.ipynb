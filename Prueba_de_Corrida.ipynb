{
  "nbformat": 4,
  "nbformat_minor": 0,
  "metadata": {
    "colab": {
      "provenance": [],
      "authorship_tag": "ABX9TyOv/tSr0tEucpOJBjXE0VS4",
      "include_colab_link": true
    },
    "kernelspec": {
      "name": "python3",
      "display_name": "Python 3"
    },
    "language_info": {
      "name": "python"
    }
  },
  "cells": [
    {
      "cell_type": "markdown",
      "metadata": {
        "id": "view-in-github",
        "colab_type": "text"
      },
      "source": [
        "<a href=\"https://colab.research.google.com/github/ManuelGDS/Simulacion-1/blob/main/Prueba_de_Corrida.ipynb\" target=\"_parent\"><img src=\"https://colab.research.google.com/assets/colab-badge.svg\" alt=\"Open In Colab\"/></a>"
      ]
    },
    {
      "cell_type": "markdown",
      "source": [
        "**Prueba de Corridas**"
      ],
      "metadata": {
        "id": "Z7-GtsS50GWZ"
      }
    },
    {
      "cell_type": "markdown",
      "source": [
        "Algoritmo que realiza la **Prueba de Corridas**, donde se determina una secuencia S de unos y ceros. 0 si $x_i \\le x_{i-1}$,  $i=1,2,3,...,n$.\n",
        "\n",
        "\n",
        "En caso contrario, se escribe 1."
      ],
      "metadata": {
        "id": "Zx0WmSMkmha7"
      }
    },
    {
      "cell_type": "markdown",
      "source": [
        "NOTA: Profesor no se porque no se visualiza el codiogo, mediante la copia guardada en GitHub solo aparece los textos y la salida de resultados, pero si lo abre como dice \"Open in Colab \" ya puede visualizar el codigo."
      ],
      "metadata": {
        "id": "FhqSIk-twn5M"
      }
    },
    {
      "cell_type": "code",
      "execution_count": 17,
      "metadata": {
        "colab": {
          "base_uri": "https://localhost:8080/"
        },
        "id": "WHocthuXghv-",
        "outputId": "5e3aa290-9378-42fa-e26f-7b0a468cd6bb"
      },
      "outputs": [
        {
          "output_type": "stream",
          "name": "stdout",
          "text": [
            "La corrida queda la siguiente forma [0, 1, 0, 0, 1, 0, 0, 1, 0, 1, 0, 1, 0, 1, 1, 0, 0, 0, 1, 0, 0, 0, 0, 1, 1]\n",
            "Tenemos que Z_0 = -0.6567\n",
            "-1.96<-0.6567<1.96, h_0: Se acepta H_0\n"
          ]
        }
      ],
      "source": [
        "from scipy.stats import norm\n",
        "\n",
        "m = 0.95 #nivel de aceptacion\n",
        "level = (1-m)/2 # level es el nivel de significacia\n",
        "ni = 1-level #probabilidad acumulada\n",
        "n = 25 #tamaño de la muestra\n",
        "z = round(norm.ppf(ni),4) #calculo de Z\n",
        "h_0 =  \"Los numeros de la  muestra son independientes\"\n",
        "h_1 = \"Los numero de la muestra no son independientes\"\n",
        "lista_de_listas = [[0.048, 0.591, 0.478, 0.166, 0.932],\n",
        "          [0.926, 0.007, 0.551, 0.362, 0.533],\n",
        "          [0.368, 0.437, 0.178, 0.411, 0.545],\n",
        "          [0.787, 0.594, 0.086, 0.951, 0.772],\n",
        "          [0.298, 0.199, 0.157, 0.401, 0.631]]\n",
        "corridas = []\n",
        "for lista in lista_de_listas:\n",
        "    #corrida = [] #esta linea era para verificar que fuera corrida por iteracion de la lista en lista_de_listas\n",
        "    for i, elemento in enumerate(lista):\n",
        "        if i == 0:\n",
        "            corridas.append(0)\n",
        "        else:\n",
        "            elemento_anterior = lista[i - 1]\n",
        "            if elemento > elemento_anterior:\n",
        "                corridas.append(1)\n",
        "            elif elemento < elemento_anterior:\n",
        "                corridas.append(0)\n",
        "    #corridas.append(corrida)\n",
        "\n",
        "print(f\"La corrida queda la siguiente forma {corridas}\")\n",
        "\n",
        "contador = 0 #contabiliza las corridas\n",
        "n = 25\n",
        "for i in range(1, len(corridas)):\n",
        "    if corridas[i] != corridas[i - 1]:\n",
        "        contador += 1\n",
        "\n",
        "mc0 = ((2*n)-1)/3\n",
        "vari = ((16*n)-29)/90\n",
        "z0 = round((contador-mc0)/(vari**0.5), 4)\n",
        "print(f\"Tenemos que Z_0 = {z0}\")\n",
        "if -1*z <z0 and z0 < z:\n",
        "  print(f\"{-z}<{z0}<{z}, h_0: Se acepta H_0\")\n",
        "else:\n",
        "  print(f\"{h_1}: Se acepta H_1\")\n"
      ]
    }
  ]
}