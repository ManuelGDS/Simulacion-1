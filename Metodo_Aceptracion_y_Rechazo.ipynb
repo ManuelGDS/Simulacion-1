{
  "nbformat": 4,
  "nbformat_minor": 0,
  "metadata": {
    "colab": {
      "provenance": [],
      "authorship_tag": "ABX9TyOD3UNxhxzvHOik2deIDQzR",
      "include_colab_link": true
    },
    "kernelspec": {
      "name": "python3",
      "display_name": "Python 3"
    },
    "language_info": {
      "name": "python"
    }
  },
  "cells": [
    {
      "cell_type": "markdown",
      "metadata": {
        "id": "view-in-github",
        "colab_type": "text"
      },
      "source": [
        "<a href=\"https://colab.research.google.com/github/ManuelGDS/Simulacion-1/blob/main/Metodo_Aceptracion_y_Rechazo.ipynb\" target=\"_parent\"><img src=\"https://colab.research.google.com/assets/colab-badge.svg\" alt=\"Open In Colab\"/></a>"
      ]
    },
    {
      "cell_type": "markdown",
      "source": [
        "# **González de Santiago José Manuel**"
      ],
      "metadata": {
        "id": "n2t0wBlXgvs7"
      }
    },
    {
      "cell_type": "markdown",
      "source": [
        "# **Metodo de Aceptacion y Rechazo**"
      ],
      "metadata": {
        "id": "-gdlMFVifwCJ"
      }
    },
    {
      "cell_type": "markdown",
      "source": [
        "Generar una muestra de la variable con distribución\n",
        "\n",
        "f(x)=20x(1−x)3 ,  0<x<1"
      ],
      "metadata": {
        "id": "8oKxEmQQfjXm"
      }
    },
    {
      "cell_type": "markdown",
      "source": [
        "\n",
        "Queremos generar $x\\sim f(x)$ Suponga que sabemos generar $g(x)$ y sabemos que:\n",
        "\n",
        "$\\frac{f(y)}{g(y)}\\leq c$, para toda  $y$"
      ],
      "metadata": {
        "id": "0bYf8t4COSdV"
      }
    },
    {
      "cell_type": "markdown",
      "source": [
        "usamos\n",
        "\n",
        "$g(x)=1$, $0<x<1$"
      ],
      "metadata": {
        "id": "hSMPLBmDQDDt"
      }
    },
    {
      "cell_type": "markdown",
      "source": [
        "Entonce vemos que\n",
        "\n",
        "$\\frac{f(x)}{g(x)}=20x(1-x)^3=t$\n",
        "\n",
        "lo igualaremos a t por temas de simplicidad"
      ],
      "metadata": {
        "id": "Iy-0vktuQOxk"
      }
    },
    {
      "cell_type": "markdown",
      "source": [
        "calculanos el máximo de la función t\n",
        "\n",
        "$t'=20(3x(1-x)^2 + (1-x)^3)$\n",
        "\n",
        "Resolvemos para x\n",
        "\n",
        "$20(-3x(1-x)^2 + (1-x)^3)=0$\n",
        "\n",
        "$(1-x)[(1-x)^2-3x(1-x)]=\\frac{0}{20}$\n",
        "\n",
        "$(1-x)^2-3x+3x^2=\\frac{0}{(1-x)}$\n",
        "\n",
        "Nos da la siguiente Ecuación de segundo grado\n",
        "\n",
        "$4x^2-5x+1=0$\n",
        "\n",
        "y Resolviendola nos queda\n",
        "\n",
        "$x=\\frac{5 \\pm \\sqrt{-5^2-4(4)(1)}}{4(1)}$\n",
        "\n",
        "$x_1=1$ y $x_2=\\frac{1}{4}$\n",
        "\n",
        "\n",
        "Entonces tenemos que\n",
        "\n",
        "$20(-3x(1-x)^2 + (1-x)^3)=c$\n",
        "\n",
        "ahora evaluando cada una de las $x$\n",
        "\n",
        "$f(1)=0, c=0$\n",
        "\n",
        "$f(\\frac{1}{4})=\\frac{135}{64}, c= \\frac{135}{64}$"
      ],
      "metadata": {
        "id": "B8MQVgf0SuDe"
      }
    },
    {
      "cell_type": "code",
      "source": [
        "import numpy as np\n",
        "import matplotlib.pyplot as plt\n",
        "import random as rnd"
      ],
      "metadata": {
        "id": "_KPnrSCcg02l"
      },
      "execution_count": 2,
      "outputs": []
    },
    {
      "cell_type": "code",
      "source": [
        "x=np.linspace(0,1,1000) #rango en x de (0,1)\n",
        "\n",
        "y=20*x*((1-x)**3)\n",
        "\n",
        "plt.figure(figsize=(6,5))\n",
        "plt.plot(x,y,label=\"f(x)\", color = \"r\")\n",
        "plt.legend()\n",
        "plt.show()"
      ],
      "metadata": {
        "colab": {
          "base_uri": "https://localhost:8080/",
          "height": 445
        },
        "id": "IKDd65yw6gyk",
        "outputId": "4f265abf-8e4d-4b83-d248-246e2ba8e319"
      },
      "execution_count": 4,
      "outputs": [
        {
          "output_type": "display_data",
          "data": {
            "text/plain": [
              "<Figure size 600x500 with 1 Axes>"
            ],
            "image/png": "[encoded data removed]"
          },
          "metadata": {}
        }
      ]
    },
    {
      "cell_type": "code",
      "source": [
        "def funcion(x):\n",
        "  f = (20*x)*(1-x)**3\n",
        "  return f"
      ],
      "metadata": {
        "id": "9doYBVYnEtj0"
      },
      "execution_count": null,
      "outputs": []
    },
    {
      "cell_type": "code",
      "source": [
        "def aceptrechazo(n):\n",
        "  c = 135/64\n",
        "  lista = []\n",
        "  x_in=[] #Lista para valores aceptados (x,y)\n",
        "  y_in=[]\n",
        "  x_out=[] #Lista para valores rechazados (x,y)\n",
        "  y_out=[]\n",
        "  for i in range(n):\n",
        "    u = rnd.random()\n",
        "    y = rnd.random()\n",
        "    f = funcion(y)\n",
        "    if (u < f/c):\n",
        "      lista.append(y)\n",
        "      x_in.append(y)\n",
        "      y_in.append(u)\n",
        "    else:\n",
        "      x_out.append(y)\n",
        "      y_out.append(u)\n",
        "  return lista, x_in, y_in, x_out, y_out"
      ],
      "metadata": {
        "id": "oe61Liv9hAFw"
      },
      "execution_count": null,
      "outputs": []
    },
    {
      "cell_type": "code",
      "source": [
        "G, x1,y1,x2,y2 = aceptrechazo(10000)"
      ],
      "metadata": {
        "id": "DLap8C5OhAE3"
      },
      "execution_count": null,
      "outputs": []
    },
    {
      "cell_type": "code",
      "source": [
        "plt.hist(G, bins=50)\n",
        "plt.show"
      ],
      "metadata": {
        "colab": {
          "base_uri": "https://localhost:8080/",
          "height": 600
        },
        "id": "7p0vdQ1lN3c8",
        "outputId": "b0714935-a219-4461-aa35-8aace19e25c1"
      },
      "execution_count": null,
      "outputs": [
        {
          "output_type": "execute_result",
          "data": {
            "text/plain": [
              "<function matplotlib.pyplot.show(close=None, block=None)>"
            ],
            "text/html": [
              "<div style=\"max-width:800px; border: 1px solid var(--colab-border-color);\"><style>\n",
              "      pre.function-repr-contents {\n",
              "        overflow-x: auto;\n",
              "        padding: 8px 12px;\n",
              "        max-height: 500px;\n",
              "      }\n",
              "\n",
              "      pre.function-repr-contents.function-repr-contents-collapsed {\n",
              "        cursor: pointer;\n",
              "        max-height: 100px;\n",
              "      }\n",
              "    </style>\n",
              "    <pre style=\"white-space: initial; background:\n",
              "         var(--colab-secondary-surface-color); padding: 8px 12px;\n",
              "         border-bottom: 1px solid var(--colab-border-color);\"><b>matplotlib.pyplot.show</b><br/>def show(*args, **kwargs)</pre><pre class=\"function-repr-contents function-repr-contents-collapsed\" style=\"\"><a class=\"filepath\" style=\"display:none\" href=\"#\">/usr/local/lib/python3.10/dist-packages/matplotlib/pyplot.py</a>Display all open figures.\n",
              "\n",
              "Parameters\n",
              "----------\n",
              "block : bool, optional\n",
              "    Whether to wait for all figures to be closed before returning.\n",
              "\n",
              "    If `True` block and run the GUI main loop until all figure windows\n",
              "    are closed.\n",
              "\n",
              "    If `False` ensure that all figure windows are displayed and return\n",
              "    immediately.  In this case, you are responsible for ensuring\n",
              "    that the event loop is running to have responsive figures.\n",
              "\n",
              "    Defaults to True in non-interactive mode and to False in interactive\n",
              "    mode (see `.pyplot.isinteractive`).\n",
              "\n",
              "See Also\n",
              "--------\n",
              "ion : Enable interactive mode, which shows / updates the figure after\n",
              "      every plotting command, so that calling ``show()`` is not necessary.\n",
              "ioff : Disable interactive mode.\n",
              "savefig : Save the figure to an image file instead of showing it on screen.\n",
              "\n",
              "Notes\n",
              "-----\n",
              "**Saving figures to file and showing a window at the same time**\n",
              "\n",
              "If you want an image file as well as a user interface window, use\n",
              "`.pyplot.savefig` before `.pyplot.show`. At the end of (a blocking)\n",
              "``show()`` the figure is closed and thus unregistered from pyplot. Calling\n",
              "`.pyplot.savefig` afterwards would save a new and thus empty figure. This\n",
              "limitation of command order does not apply if the show is non-blocking or\n",
              "if you keep a reference to the figure and use `.Figure.savefig`.\n",
              "\n",
              "**Auto-show in jupyter notebooks**\n",
              "\n",
              "The jupyter backends (activated via ``%matplotlib inline``,\n",
              "``%matplotlib notebook``, or ``%matplotlib widget``), call ``show()`` at\n",
              "the end of every cell by default. Thus, you usually don&#x27;t have to call it\n",
              "explicitly there.</pre>\n",
              "      <script>\n",
              "      if (google.colab.kernel.accessAllowed && google.colab.files && google.colab.files.view) {\n",
              "        for (const element of document.querySelectorAll('.filepath')) {\n",
              "          element.style.display = 'block'\n",
              "          element.onclick = (event) => {\n",
              "            event.preventDefault();\n",
              "            event.stopPropagation();\n",
              "            google.colab.files.view(element.textContent, 401);\n",
              "          };\n",
              "        }\n",
              "      }\n",
              "      for (const element of document.querySelectorAll('.function-repr-contents')) {\n",
              "        element.onclick = (event) => {\n",
              "          event.preventDefault();\n",
              "          event.stopPropagation();\n",
              "          element.classList.toggle('function-repr-contents-collapsed');\n",
              "        };\n",
              "      }\n",
              "      </script>\n",
              "      </div>"
            ]
          },
          "metadata": {},
          "execution_count": 150
        },
        {
          "output_type": "display_data",
          "data": {
            "text/plain": [
              "<Figure size 640x480 with 1 Axes>"
            ],
            "image/png": "[encoded data removed]"
          },
          "metadata": {}
        }
      ]
    },
    {
      "cell_type": "code",
      "source": [
        "def cdf(G): #Función de distribución acumulada\n",
        " n=len(G)\n",
        " x=np.sort(G) #Ordenamos los datos\n",
        " y=np.arange(0,n)/n #Genera un array de numeros enteros de 0 a n-1\n",
        "                    #El resultante se divide por n, para normalizar los valores\n",
        " return x,y"
      ],
      "metadata": {
        "id": "rOVtdK53b87L"
      },
      "execution_count": null,
      "outputs": []
    },
    {
      "cell_type": "code",
      "source": [
        "X, Y = cdf(G)"
      ],
      "metadata": {
        "id": "JX_RTCttb81b"
      },
      "execution_count": null,
      "outputs": []
    },
    {
      "cell_type": "code",
      "source": [
        "X, Y = cdf(G)"
      ],
      "metadata": {
        "id": "R02EMJPEb8oj"
      },
      "execution_count": null,
      "outputs": []
    },
    {
      "cell_type": "code",
      "source": [
        "plt.step(X,Y)"
      ],
      "metadata": {
        "colab": {
          "base_uri": "https://localhost:8080/",
          "height": 447
        },
        "id": "gga7_WLqcYXv",
        "outputId": "f01e923b-5447-4505-b068-ee48c9ecf736"
      },
      "execution_count": null,
      "outputs": [
        {
          "output_type": "execute_result",
          "data": {
            "text/plain": [
              "[<matplotlib.lines.Line2D at 0x79c0205dee30>]"
            ]
          },
          "metadata": {},
          "execution_count": 146
        },
        {
          "output_type": "display_data",
          "data": {
            "text/plain": [
              "<Figure size 640x480 with 1 Axes>"
            ],
            "image/png": "[encoded data removed]"
          },
          "metadata": {}
        }
      ]
    }
  ]
}