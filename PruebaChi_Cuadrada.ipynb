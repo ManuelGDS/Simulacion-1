{
  "nbformat": 4,
  "nbformat_minor": 0,
  "metadata": {
    "colab": {
      "provenance": [],
      "authorship_tag": "ABX9TyPlMBPkQJaEIStYxvkrX8bQ",
      "include_colab_link": true
    },
    "kernelspec": {
      "name": "python3",
      "display_name": "Python 3"
    },
    "language_info": {
      "name": "python"
    }
  },
  "cells": [
    {
      "cell_type": "markdown",
      "metadata": {
        "id": "view-in-github",
        "colab_type": "text"
      },
      "source": [
        "<a href=\"https://colab.research.google.com/github/ManuelGDS/Simulacion-1/blob/main/PruebaChi_Cuadrada.ipynb\" target=\"_parent\"><img src=\"https://colab.research.google.com/assets/colab-badge.svg\" alt=\"Open In Colab\"/></a>"
      ]
    },
    {
      "cell_type": "markdown",
      "source": [
        "Algoritmo que realiza la **\"Prueba Chi-Cuadrada\"** donde predefinimos 5 clases en una distribucion de $(0,1)$"
      ],
      "metadata": {
        "id": "4XmIDmuA7Itx"
      }
    },
    {
      "cell_type": "code",
      "source": [
        "#import pandas as pd #Esta linea era porque queria que leyera un csv de github pero no me salio\n",
        "#Aunque sigo trabajando en ello\n",
        "from tabulate import tabulate\n",
        "vector = [0.8797, 0.3884, 0.6289, 0.8750, 0.5999, 0.8589, 0.9996, 0.2415, 0.3808, 0.9606,\n",
        "          0.9848, 0.3469, 0.7977, 0.5844, 0.8147, 0.6431, 0.7387, 0.5613, 0.0318, 0.7401,\n",
        "          0.4557, 0.1592, 0.8536, 0.8846, 0.3410, 0.1492, 0.8681, 0.5291, 0.3188, 0.5992,\n",
        "          0.9170, 0.2204, 0.5991, 0.5461, 0.5739, 0.3254, 0.0856, 0.2258, 0.4603, 0.5027,\n",
        "          0.8376, 0.6235, 0.3681, 0.2088, 0.1525, 0.2006, 0.4720, 0.4272, 0.6360, 0.0954]\n",
        "#vector = pd.read_csv(\"https://github.com/ManuelGDS/Simulacion-1/blob/main/pruega%20chi%20cuadrada.csv\")\n",
        "\n",
        "l1 = []\n",
        "l2 = []\n",
        "l3 = []\n",
        "l4 = []\n",
        "l5 = []\n",
        "\n",
        "for elemento in vector:\n",
        "  if elemento >= 0 and elemento < 0.20:\n",
        "    l1.append(elemento)\n",
        "  elif elemento >= 0.20 and elemento < 0.40:\n",
        "    l2.append(elemento)\n",
        "  elif elemento >= 0.40 and elemento <0.60:\n",
        "    l3.append(elemento)\n",
        "  elif elemento >= 0.60 and elemento < 0.80:\n",
        "    l4.append(elemento)\n",
        "  elif elemento >= 0.80 and elemento <1:\n",
        "    l5.append(elemento)\n",
        "\n",
        "matriz =  [l1, l2, l3, l4, l5]\n",
        "matriz_new = []\n",
        "\n",
        "i = 0\n",
        "j = 0.19\n",
        "\n",
        "for elemento in matriz:\n",
        "  clase = f\"{i}-{j}\"\n",
        "  Oi = len(elemento)\n",
        "  Ei = len(vector)/5 #El 5 es por el número de clases\n",
        "  suma = (Oi-Ei)\n",
        "  cuadrado = (suma**2)/Ei\n",
        "  iteracion = [clase,Oi,Ei,suma,cuadrado]\n",
        "  matriz_new.append(iteracion)\n",
        "  i=round(i+.20,2)\n",
        "  j=round(j+.20,2)\n",
        "\n",
        "\n",
        "print(tabulate(matriz_new,headers = (\"Clase\",\"Oi\", \"Ei\", \"(Oi-Ei)\", \"(Oi-Ei)^2/Ei\" ),  tablefmt='fancy_grid'))"
      ],
      "metadata": {
        "id": "UYastIFBm_dF",
        "colab": {
          "base_uri": "https://localhost:8080/"
        },
        "outputId": "adf4388e-fed8-4313-8ae4-4debd4587f98"
      },
      "execution_count": null,
      "outputs": [
        {
          "output_type": "stream",
          "name": "stdout",
          "text": [
            "╒══════════╤══════╤══════╤═══════════╤════════════════╕\n",
            "│ Clase    │   Oi │   Ei │   (Oi-Ei) │   (Oi-Ei)^2/Ei │\n",
            "╞══════════╪══════╪══════╪═══════════╪════════════════╡\n",
            "│ 0-0.19   │    6 │   10 │        -4 │            1.6 │\n",
            "├──────────┼──────┼──────┼───────────┼────────────────┤\n",
            "│ 0.2-0.39 │   12 │   10 │         2 │            0.4 │\n",
            "├──────────┼──────┼──────┼───────────┼────────────────┤\n",
            "│ 0.4-0.59 │   13 │   10 │         3 │            0.9 │\n",
            "├──────────┼──────┼──────┼───────────┼────────────────┤\n",
            "│ 0.6-0.79 │    7 │   10 │        -3 │            0.9 │\n",
            "├──────────┼──────┼──────┼───────────┼────────────────┤\n",
            "│ 0.8-0.99 │   12 │   10 │         2 │            0.4 │\n",
            "╘══════════╧══════╧══════╧═══════════╧════════════════╛\n"
          ]
        }
      ]
    },
    {
      "cell_type": "markdown",
      "source": [
        "$\\sum_{i=1}^n \\frac{(Oi-Ei)^2}{Ei}=4.2$ y el valor critico es de $9.48$\n",
        "\n",
        "Entonces como $4.2 < 9.48$ y se cumple lo siguiente $x^2\\le valor-critico$, por lo tanto, la hipotesis no se rechaza."
      ],
      "metadata": {
        "id": "AQQY5xPDDgpt"
      }
    }
  ]
}