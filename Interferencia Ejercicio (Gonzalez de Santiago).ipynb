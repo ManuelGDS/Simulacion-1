{
  "cells": [
    {
      "cell_type": "markdown",
      "source": [
        "# **Gonzalez de Sanitago José Manuel**\n",
        "\n",
        "*Nota: Hasta abajo viene la solucion analitica*"
      ],
      "metadata": {
        "id": "uQ8YpOwDtTN7"
      },
      "id": "uQ8YpOwDtTN7"
    },
    {
      "cell_type": "markdown",
      "id": "c21e5530",
      "metadata": {
        "id": "c21e5530"
      },
      "source": [
        "# Ejemplo: Flecha y cojinete"
      ]
    },
    {
      "cell_type": "markdown",
      "id": "61f9bd36",
      "metadata": {
        "id": "61f9bd36"
      },
      "source": [
        "Una flecha será embonada en un cojinete como se muestra a continuación\n",
        "\n",
        "<img src=\"https://github.com/Medetl/Simulacion/blob/main/Unidad%20II/cojinete.png?raw=1\">"
      ]
    },
    {
      "cell_type": "markdown",
      "id": "5f658ca1",
      "metadata": {
        "id": "5f658ca1"
      },
      "source": [
        "Si $x_1$ sigue una distribución normal con media $1.5$ y varianza $0.0016$, y $x_2$ esta misma distribución con media $1.48$ y varianza $0.0009$, determine:\n",
        "\n",
        "a) La probabilidad de que haya interferencia.\n",
        "\n",
        "b) El número de veces que es necesario simular el experimento, si se quiere que la probabilidad de interferencia estimada difiera de su valor verdadero en menos de $0.01$, con un nivel de seguridad del $95\\%.$"
      ]
    },
    {
      "cell_type": "markdown",
      "id": "fac00420",
      "metadata": {
        "id": "fac00420"
      },
      "source": [
        "Vamos a resolver este problema, procurando seguir la metodología vista en el curso."
      ]
    },
    {
      "cell_type": "markdown",
      "id": "ccd32164",
      "metadata": {
        "id": "ccd32164"
      },
      "source": [
        "### 1. Identifique las variables\n",
        "\n",
        "Tenemos dos: $x_1$ y $x_2$."
      ]
    },
    {
      "cell_type": "markdown",
      "id": "ae8735e5",
      "metadata": {
        "id": "ae8735e5"
      },
      "source": [
        "### 2 y 3. Determine la distribución de probabilidad y modele las variables aleatorias\n",
        "\n",
        "En el planteamiento ya se especifica que $x_1 \\sim N(1.5, 0.04)$ y que $x_1 \\sim N(1.48, 0.03)$."
      ]
    },
    {
      "cell_type": "markdown",
      "id": "b1b57a13",
      "metadata": {
        "id": "b1b57a13"
      },
      "source": [
        "### 4. Defina el modelo del sistema y los objetivos de la simulación\n",
        "\n",
        "La diferencia $x_1 - x_2$ modela adecuadamente el sistema.\n",
        "\n",
        "Si $x_2 - x_1 > 0$ el diametro de la flecha es más grande que el espacio en el cojinte y, por tanto, hay interferencia. De lo contrario, las piezas embonan sin problema.\n",
        "\n",
        "Objetivo: determinar la frecuencia con que esto ocurre, lo cual nos da una esrimación de la probabilidad de interefrencia.\n",
        "\n",
        "Una forma de implementarlo es mediante el siguiente código."
      ]
    },
    {
      "cell_type": "code",
      "execution_count": 65,
      "id": "191b1e9b",
      "metadata": {
        "id": "191b1e9b"
      },
      "outputs": [],
      "source": [
        "import numpy as np\n",
        "import random\n",
        "import matplotlib.pyplot as plt\n",
        "from scipy.stats import norm"
      ]
    },
    {
      "cell_type": "code",
      "execution_count": 66,
      "id": "e64c27d2",
      "metadata": {
        "id": "e64c27d2"
      },
      "outputs": [],
      "source": [
        "def interferencia():                #Esta función devuelve el valor 1 si hay interferencia o 0 si no la hay.\n",
        "    interf=0\n",
        "    x_1 = random.gauss(1.50,0.04)    #La funcion gauss genera un número que sigue una distribucion normal con\n",
        "    x_2 = random.gauss(1.48,0.03)   # la media y la desvicion estandar especificados.\n",
        "    if 0.0 < x_2 - x_1:\n",
        "        interf += 1\n",
        "    return interf"
      ]
    },
    {
      "cell_type": "code",
      "execution_count": 67,
      "id": "ebe51777",
      "metadata": {
        "id": "ebe51777",
        "outputId": "c1ece5e6-a085-461b-942b-5191e17e30ef",
        "colab": {
          "base_uri": "https://localhost:8080/"
        }
      },
      "outputs": [
        {
          "output_type": "execute_result",
          "data": {
            "text/plain": [
              "0"
            ]
          },
          "metadata": {},
          "execution_count": 67
        }
      ],
      "source": [
        "interferencia()"
      ]
    },
    {
      "cell_type": "markdown",
      "id": "d6186dac",
      "metadata": {
        "id": "d6186dac"
      },
      "source": [
        "### 5. Diseñe el experimento\n",
        "\n",
        "Para estimar la probabilidad de interferencia, ejecutamos $n$ veces la función anterior y calculamos de manera acumulativa\n",
        "la probabilidad de interferencia."
      ]
    },
    {
      "cell_type": "code",
      "execution_count": 71,
      "id": "f9a766a5",
      "metadata": {
        "id": "f9a766a5"
      },
      "outputs": [],
      "source": [
        "def prob_inter(n):\n",
        "    prob = []                       # Esta funcion devuelve esta lista \"prob\", con los valores de la probabilidad\n",
        "    inter = 0                       # estimada al contar las veces que hay interferencia y dividir entre las veces que\n",
        "    for i in range(n):              # se ha reptido la observacion mientras aumenta el numero de iteraciones.\n",
        "        inter += interferencia()\n",
        "        prob.append(inter/(i+1))\n",
        "    return prob"
      ]
    },
    {
      "cell_type": "code",
      "execution_count": 72,
      "id": "8099a245",
      "metadata": {
        "id": "8099a245"
      },
      "outputs": [],
      "source": [
        "X = prob_inter(3000)                # Asignamos valores a n y realizamos el experimento"
      ]
    },
    {
      "cell_type": "code",
      "execution_count": 73,
      "id": "c5a5a3c2",
      "metadata": {
        "id": "c5a5a3c2",
        "outputId": "aa06bcf1-3f0a-4bc9-91eb-34eb81eadee3",
        "colab": {
          "base_uri": "https://localhost:8080/",
          "height": 447
        }
      },
      "outputs": [
        {
          "output_type": "execute_result",
          "data": {
            "text/plain": [
              "[<matplotlib.lines.Line2D at 0x7c6916084640>]"
            ]
          },
          "metadata": {},
          "execution_count": 73
        },
        {
          "output_type": "display_data",
          "data": {
            "text/plain": [
              "<Figure size 640x480 with 1 Axes>"
            ],
            "image/png": "[encoded data removed]"
          },
          "metadata": {}
        }
      ],
      "source": [
        "plt.plot(X)                         # La gráfica muestra que la convergencia está garantizada con 500 iteraciones\n",
        "                                    # Sin embargo, diferentes ejecuciones darán resultados distintos"
      ]
    },
    {
      "cell_type": "code",
      "execution_count": 74,
      "id": "4ac4c689",
      "metadata": {
        "id": "4ac4c689",
        "outputId": "5ce15924-f35e-459b-d12a-42bd04d970e6",
        "colab": {
          "base_uri": "https://localhost:8080/"
        }
      },
      "outputs": [
        {
          "output_type": "stream",
          "name": "stdout",
          "text": [
            "0.3519745537260378 0.015256880732234421\n"
          ]
        }
      ],
      "source": [
        "print(np.mean(X), np.std(X))"
      ]
    },
    {
      "cell_type": "markdown",
      "id": "34727279",
      "metadata": {
        "id": "34727279"
      },
      "source": [
        "### 6. Repita el experimento $n$ veces\n",
        "\n",
        "Una forma de hacerlo es mediante el siguiente codigo."
      ]
    },
    {
      "cell_type": "code",
      "execution_count": 75,
      "id": "908f1884",
      "metadata": {
        "id": "908f1884"
      },
      "outputs": [],
      "source": [
        "def modelo(n):\n",
        "    lista=[]\n",
        "    for i in range(n):\n",
        "        s = prob_inter(500)\n",
        "        lista.append(np.mean(s))\n",
        "    return lista"
      ]
    },
    {
      "cell_type": "code",
      "execution_count": 76,
      "id": "34868564",
      "metadata": {
        "id": "34868564"
      },
      "outputs": [],
      "source": [
        "Y=modelo(500)"
      ]
    },
    {
      "cell_type": "code",
      "execution_count": 77,
      "id": "8a95845e",
      "metadata": {
        "id": "8a95845e",
        "outputId": "2250b87d-05d2-4a3a-ea23-e76669966777",
        "colab": {
          "base_uri": "https://localhost:8080/",
          "height": 430
        }
      },
      "outputs": [
        {
          "output_type": "display_data",
          "data": {
            "text/plain": [
              "<Figure size 640x480 with 1 Axes>"
            ],
            "image/png": "[encoded data removed]"
          },
          "metadata": {}
        }
      ],
      "source": [
        "plt.hist(Y)\n",
        "plt.show()"
      ]
    },
    {
      "cell_type": "code",
      "execution_count": 78,
      "id": "e892a16c",
      "metadata": {
        "id": "e892a16c",
        "outputId": "15ecc839-172f-4d8b-8be4-0f5463465469",
        "colab": {
          "base_uri": "https://localhost:8080/"
        }
      },
      "outputs": [
        {
          "output_type": "stream",
          "name": "stdout",
          "text": [
            "0.34503325077549174 0.029367814501668792\n"
          ]
        }
      ],
      "source": [
        "print(np.mean(Y), np.std(Y))"
      ]
    },
    {
      "cell_type": "markdown",
      "id": "e5dc2362",
      "metadata": {
        "id": "e5dc2362"
      },
      "source": [
        "### Paso 7. Hallamos el intervalo de confianza.\n",
        "\n",
        "$$\\bar{x}-z_{\\alpha/2} \\cdot \\frac{s}{\\sqrt{n}} < \\mu < \\bar{x}+z_{\\alpha/2}\\cdot \\frac{s}{\\sqrt{n}}$$"
      ]
    },
    {
      "cell_type": "code",
      "execution_count": 79,
      "id": "23d0b48e",
      "metadata": {
        "id": "23d0b48e",
        "outputId": "6532a6e3-b59e-4c35-f692-e2062abe64b9",
        "colab": {
          "base_uri": "https://localhost:8080/"
        }
      },
      "outputs": [
        {
          "output_type": "execute_result",
          "data": {
            "text/plain": [
              "0.34503325077549174"
            ]
          },
          "metadata": {},
          "execution_count": 79
        }
      ],
      "source": [
        "np.mean(Y)"
      ]
    },
    {
      "cell_type": "code",
      "execution_count": 80,
      "id": "b29c74e6",
      "metadata": {
        "id": "b29c74e6",
        "outputId": "845fe2fa-9218-4273-feb4-bf4308069de6",
        "colab": {
          "base_uri": "https://localhost:8080/"
        }
      },
      "outputs": [
        {
          "output_type": "execute_result",
          "data": {
            "text/plain": [
              "(0.33689290790865034, 0.35317359364233314)"
            ]
          },
          "metadata": {},
          "execution_count": 80
        }
      ],
      "source": [
        "np.mean(Y) - 1.96*np.std(Y)/np.sqrt(50), np.mean(Y) + 1.96*np.std(Y)/np.sqrt(50)"
      ]
    },
    {
      "cell_type": "markdown",
      "id": "112c0954",
      "metadata": {
        "id": "112c0954"
      },
      "source": [
        "### Para determinar el número de simulaciones"
      ]
    },
    {
      "cell_type": "markdown",
      "id": "0a1a63e7",
      "metadata": {
        "id": "0a1a63e7"
      },
      "source": [
        "$$ N > \\Bigg( \\frac{2 \\sigma z_{\\alpha/2}}{\\epsilon} \\Bigg) ^2 $$"
      ]
    },
    {
      "cell_type": "code",
      "execution_count": 81,
      "id": "1478d745",
      "metadata": {
        "id": "1478d745"
      },
      "outputs": [],
      "source": [
        "N = (2*np.std(X)*1.96/0.01)**2"
      ]
    },
    {
      "cell_type": "code",
      "execution_count": 82,
      "id": "fa6ae0ce",
      "metadata": {
        "id": "fa6ae0ce",
        "outputId": "02b72512-3651-4ca4-dcb7-8afef7bb1c2b",
        "colab": {
          "base_uri": "https://localhost:8080/"
        }
      },
      "outputs": [
        {
          "output_type": "stream",
          "name": "stdout",
          "text": [
            "35.76873956070271\n"
          ]
        }
      ],
      "source": [
        "print(N)"
      ]
    },
    {
      "cell_type": "markdown",
      "id": "a6d1c695",
      "metadata": {
        "id": "a6d1c695"
      },
      "source": [
        "### Podemos comparar con la solución analítica del problema.\n",
        "\n",
        "Para ello usamos la teoría sobre la suma de variables con distribución normal."
      ]
    },
    {
      "cell_type": "markdown",
      "source": [
        "Como tenemos que $X_1\\sim N(1.5, 0.04)$ y $X_2\\sim N(1.48,0.03)$ siguen una distribucion normal\n",
        "\n",
        "Entonces hacemos uso del teorema de suma de dos distribuciones normales que es lo siguiente\n",
        "\n",
        "Sea $X_1$ y $X_2$ dos distribuciones normales tenemos que $D = X_1 - X_2$ y\n",
        "$X_1\\sim N(\\mu_{x_1},\\sigma_{x_1}^2)- X_2\\sim N(\\mu_{x_2},\\sigma_{x_2}^2)=D\\sim (\\mu_{x_1}-\\mu_{x_2},\\sigma_{x_1}^2-\\sigma_{x_2}^2)$\n",
        "\n",
        "$\\mu_{x_1}-\\mu_{x_2}=1.5-1.48=0.02$\n",
        "\n",
        "$\\sigma_{x_1}^2-\\sigma_{x_2}^2 = \\sqrt{(0.04)^2+(0.03)^2}=0.05$\n",
        "\n",
        "Entonces tenemos lo siguiente:\n",
        "\n",
        "$D\\sim(0.02,0.05)$\n",
        "\n",
        "Y Ahora necesitamos calcular la probabilidad de que D sea mayor o igual a cero $P(D\\geq 0)$\n"
      ],
      "metadata": {
        "id": "H8aqbZZ9LpDj"
      },
      "id": "H8aqbZZ9LpDj"
    },
    {
      "cell_type": "markdown",
      "source": [
        "Debido a que la normal es simetrica puede simplificarse mediante la diguiente transformación:Sea z una variable aleatoria definida por la siguiente relacion:\n",
        "\n",
        "$z=(X-\\mu)/\\sigma$\n",
        "\n",
        "En donde $\\sigma$ y $\\mu$ son la media y desviación de X, respectivamente. De acuerdo con lo anterior , Z es una variable aleatoria estandarizada c0on media cero y desviación estándar uno.\n",
        "\n",
        "Por lo anterios tenemos lo siguiente:\n",
        "\n",
        "$z=\\frac{0-0.02}{.05}=-0.04$\n",
        "\n",
        "y Esto nos da\n",
        "\n",
        "$P(D\\geq0)=P(Z\\geq -0.04)$\n",
        "\n",
        "y esto se puede resolver con la siguiente integral $P(Z\\geq-0.04)=\\frac{1}{\\sqrt{2\\pi}\\sigma}\\int_{-\\infty}^{z}e^{-\\frac{z^2}{2}}dz $\n",
        "\n",
        "$F_z=(-0.04;0,1)=0.34457$\n",
        "\n",
        "Esto fue calculado mediante software (Symbolab) pero tambien puede consultarse en las tablas de distribución acumulativa normal estandar (En este caso fue el \"Canavos, G. (1988). Probabilidad y Estadistica Aplicaciones y Métodos (Apendice: Tabla D. McGraw-Hill)\n",
        "\n",
        "$P(X\\geq x)=P(Z\\geq -0.04)= 1 - F_z=(-0.04;0,1)=0.65543$"
      ],
      "metadata": {
        "id": "0eZGKQtoVFZd"
      },
      "id": "0eZGKQtoVFZd"
    },
    {
      "cell_type": "markdown",
      "source": [
        "Calculo del intervalo de confianza"
      ],
      "metadata": {
        "id": "_IQPxbNgfvHK"
      },
      "id": "_IQPxbNgfvHK"
    },
    {
      "cell_type": "markdown",
      "source": [
        "Utilizando la formula que esta más arriba se puede concluir la siguiente formula $\\overline{x}\\pm z_{1-\\alpha/2}\\cdot \\frac{\\sigma}{\\sqrt{n}}$\n",
        "\n",
        "Y esto solo puede resolverse a partir de los datos de la muestra de tamaño n\n",
        "\n",
        "$.3450+1.96\\cdot \\frac{.2936}{\\sqrt{3000}}=0.3555$\n",
        "\n",
        "$.3450-1.96\\cdot \\frac{.2936}{\\sqrt{3000}}=0.3344$\n",
        "\n",
        "y el intervalo de confianza queda queda $(0.3344,0.3555)$"
      ],
      "metadata": {
        "id": "jw851lbPgHXL"
      },
      "id": "jw851lbPgHXL"
    },
    {
      "cell_type": "markdown",
      "source": [
        "Para el calculo de n"
      ],
      "metadata": {
        "id": "sMhbCJJwoD6h"
      },
      "id": "sMhbCJJwoD6h"
    },
    {
      "cell_type": "markdown",
      "source": [
        "tenemos la siguiente ecuacion al reescribirse la ecuacion del intervalo de confianza $$-z_{\\alpha/2} \\cdot \\frac{s}{\\sqrt{n}} < \\bar{X}-\\mu < z_{\\alpha/2}\\cdot \\frac{s}{\\sqrt{n}}=1-\\alpha$$\n",
        "\n",
        "y da como resultado\n",
        "$P(|\\bar{X}-\\mu)|<\\epsilon=1-\\alpha$ en donde $\\epsilon=Z_{1-\\alpha/2}\\frac{\\sigma}{\\sqrt{n}}$ y resolviendo para n tenemos\n",
        "\n",
        "$n=(\\frac{Z_{1-\\alpha/2} \\sigma}{\\epsilon})^2$\n",
        "\n",
        "y usando los datos de la simulacion $n=(\\frac{1.96\\cdot 0.2936}{0.01})^2=33.1149$"
      ],
      "metadata": {
        "id": "Y8DmQSBSoGWp"
      },
      "id": "Y8DmQSBSoGWp"
    },
    {
      "cell_type": "code",
      "execution_count": 60,
      "id": "7284bee0",
      "metadata": {
        "id": "7284bee0",
        "outputId": "8c15cb9f-ac9f-4722-fdee-7b054707f90a",
        "colab": {
          "base_uri": "https://localhost:8080/"
        }
      },
      "outputs": [
        {
          "output_type": "execute_result",
          "data": {
            "text/plain": [
              "0.3445782583896758"
            ]
          },
          "metadata": {},
          "execution_count": 60
        }
      ],
      "source": [
        "norm.cdf(-0.04, -0.02, 0.05)"
      ]
    },
    {
      "cell_type": "code",
      "execution_count": 62,
      "id": "a1a842a2",
      "metadata": {
        "id": "a1a842a2",
        "outputId": "e8110ce2-7c6a-4673-8e0e-a8d05cdaccf6",
        "colab": {
          "base_uri": "https://localhost:8080/"
        }
      },
      "outputs": [
        {
          "output_type": "execute_result",
          "data": {
            "text/plain": [
              "0.0007545179873758023"
            ]
          },
          "metadata": {},
          "execution_count": 62
        }
      ],
      "source": [
        "norm.cdf(-0.04, -0.02, 0.05)-np.mean(Y)"
      ]
    },
    {
      "cell_type": "markdown",
      "source": [],
      "metadata": {
        "id": "QKyI1Y5qLo3D"
      },
      "id": "QKyI1Y5qLo3D"
    }
  ],
  "metadata": {
    "kernelspec": {
      "display_name": "Python 3 (ipykernel)",
      "language": "python",
      "name": "python3"
    },
    "language_info": {
      "codemirror_mode": {
        "name": "ipython",
        "version": 3
      },
      "file_extension": ".py",
      "mimetype": "text/x-python",
      "name": "python",
      "nbconvert_exporter": "python",
      "pygments_lexer": "ipython3",
      "version": "3.7.3"
    },
    "colab": {
      "provenance": [],
      "toc_visible": true
    }
  },
  "nbformat": 4,
  "nbformat_minor": 5
}