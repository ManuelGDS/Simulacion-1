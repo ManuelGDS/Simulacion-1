{
  "nbformat": 4,
  "nbformat_minor": 0,
  "metadata": {
    "colab": {
      "provenance": [],
      "authorship_tag": "ABX9TyNQg3ekbSM9RmqtvfYtdlk3",
      "include_colab_link": true
    },
    "kernelspec": {
      "name": "python3",
      "display_name": "Python 3"
    },
    "language_info": {
      "name": "python"
    }
  },
  "cells": [
    {
      "cell_type": "markdown",
      "metadata": {
        "id": "view-in-github",
        "colab_type": "text"
      },
      "source": [
        "<a href=\"https://colab.research.google.com/github/ManuelGDS/Simulacion-1/blob/main/Cuadrado_medio.ipynb\" target=\"_parent\"><img src=\"https://colab.research.google.com/assets/colab-badge.svg\" alt=\"Open In Colab\"/></a>"
      ]
    },
    {
      "cell_type": "markdown",
      "source": [
        "Algoritmo de generación de números pseudo-aleatorios por medio del \"**Método del Cuadrado Medio**\" que está dado de la forma $x_{i+1} = x_{i}^2$ y se extraen cuatro digtos centrales.\n",
        "\n",
        "Donde: $x_i$ es la semilla."
      ],
      "metadata": {
        "id": "tCniigpvpBNR"
      }
    },
    {
      "cell_type": "code",
      "source": [
        "from tabulate import tabulate\n",
        "\n",
        "n = int(input(\"Ingrese el numero de iteraciones que quiere hacer: \"))\n",
        "x_0 = int(input(\"Ingre la semilla de 4 digitos: \"))\n",
        "matriz = []\n",
        "\n",
        "\n",
        "for i in range(n+1):\n",
        "\n",
        "  x1 = x_0**2\n",
        "\n",
        "  if (len(str(x1))%2) !=0: #Aqui se evalua la longitud para determinat si es inpar\n",
        "\n",
        "    cadena = str(x1)\n",
        "    par = len(cadena)+1\n",
        "    cadena1 = cadena.zfill(par)\n",
        "    nuevox = int(cadena1[2:6])\n",
        "\n",
        "  else:\n",
        "\n",
        "    cadena = str(x1)\n",
        "    nuevox = int(cadena[2:6])\n",
        "\n",
        "  iteracion = [i,x_0, x1]\n",
        "  matriz.append(iteracion)\n",
        "  x_0=nuevox\n",
        "\n",
        "print(tabulate(matriz,headers = (\"N\",\"Xn\", \"Xn^2\"), tablefmt='fancy_grid'))"
      ],
      "metadata": {
        "colab": {
          "base_uri": "https://localhost:8080/"
        },
        "id": "CLTBnG8EBSyn",
        "outputId": "26528d2d-e21c-4db9-dfb6-7a46928c17cc"
      },
      "execution_count": 2,
      "outputs": [
        {
          "output_type": "stream",
          "name": "stdout",
          "text": [
            "Ingrese el numero de iteraciones que quiere hacer: 10\n",
            "Ingre la semilla de 4 digitos: 2124\n",
            "╒═════╤══════╤══════════╕\n",
            "│   N │   Xn │     Xn^2 │\n",
            "╞═════╪══════╪══════════╡\n",
            "│   0 │ 2124 │  4511376 │\n",
            "├─────┼──────┼──────────┤\n",
            "│   1 │ 5113 │ 26142769 │\n",
            "├─────┼──────┼──────────┤\n",
            "│   2 │ 1427 │  2036329 │\n",
            "├─────┼──────┼──────────┤\n",
            "│   3 │  363 │   131769 │\n",
            "├─────┼──────┼──────────┤\n",
            "│   4 │ 1769 │  3129361 │\n",
            "├─────┼──────┼──────────┤\n",
            "│   5 │ 1293 │  1671849 │\n",
            "├─────┼──────┼──────────┤\n",
            "│   6 │ 6718 │ 45131524 │\n",
            "├─────┼──────┼──────────┤\n",
            "│   7 │ 1315 │  1729225 │\n",
            "├─────┼──────┼──────────┤\n",
            "│   8 │ 7292 │ 53173264 │\n",
            "├─────┼──────┼──────────┤\n",
            "│   9 │ 1732 │  2999824 │\n",
            "├─────┼──────┼──────────┤\n",
            "│  10 │ 9998 │ 99960004 │\n",
            "╘═════╧══════╧══════════╛\n"
          ]
        }
      ]
    }
  ]
}