{
  "nbformat": 4,
  "nbformat_minor": 0,
  "metadata": {
    "colab": {
      "provenance": [],
      "authorship_tag": "ABX9TyOvyHATj4gOV/2+E4Vax48R",
      "include_colab_link": true
    },
    "kernelspec": {
      "name": "python3",
      "display_name": "Python 3"
    },
    "language_info": {
      "name": "python"
    }
  },
  "cells": [
    {
      "cell_type": "markdown",
      "metadata": {
        "id": "view-in-github",
        "colab_type": "text"
      },
      "source": [
        "<a href=\"https://colab.research.google.com/github/ManuelGDS/Simulacion-1/blob/main/Cuadrado_medio.ipynb\" target=\"_parent\"><img src=\"https://colab.research.google.com/assets/colab-badge.svg\" alt=\"Open In Colab\"/></a>"
      ]
    },
    {
      "cell_type": "code",
      "execution_count": null,
      "metadata": {
        "id": "pkHBAZ-cIl0L"
      },
      "outputs": [],
      "source": [
        "\n",
        "#Metodo de gnracion de numeros pseudo aleatorios \"Cuadrado Medio\""
      ]
    },
    {
      "cell_type": "code",
      "source": [
        "from tabulate import tabulate\n",
        "n = int(input(\"Ingrese el numero de iteraciones que quiere hacer\"))\n",
        "x_0 = int(input(\"Ingre la semilla de 4 digitos\"))\n",
        "matriz = []\n",
        "\n",
        "\n",
        "for i in range(n+1):\n",
        "\n",
        "  x1 = x_0**2\n",
        "\n",
        "  if (len(str(x1))%2) !=0:\n",
        "\n",
        "    cadena = str(x1)\n",
        "    par = len(cadena)+1\n",
        "    cadena1 = cadena.zfill(par)\n",
        "    nuevox = int(cadena1[2:6])\n",
        "\n",
        "  else:\n",
        "\n",
        "    cadena = str(x1)\n",
        "    nuevox = int(cadena[2:6])\n",
        "\n",
        "  iteracion = [i,x_0, x1]\n",
        "  matriz.append(iteracion)\n",
        "  x_0=nuevox\n",
        "\n",
        "print(tabulate(matriz,headers = (\"N\",\"Xn\", \"Xn^2\")))"
      ],
      "metadata": {
        "colab": {
          "base_uri": "https://localhost:8080/"
        },
        "id": "CLTBnG8EBSyn",
        "outputId": "b06e7e93-8de4-4603-86b3-339a67b74857"
      },
      "execution_count": 2,
      "outputs": [
        {
          "output_type": "stream",
          "name": "stdout",
          "text": [
            "Ingrese el numero de iteraciones que quiere hacer10\n",
            "Ingre la semilla de 4 digitos4561\n",
            "  N    Xn      Xn^2\n",
            "---  ----  --------\n",
            "  0  4561  20802721\n",
            "  1  8027  64432729\n",
            "  2  4327  18722929\n",
            "  3  7229  52258441\n",
            "  4  2584   6677056\n",
            "  5  6770  45832900\n",
            "  6  8329  69372241\n",
            "  7  3722  13853284\n",
            "  8  8532  72795024\n",
            "  9  7950  63202500\n",
            " 10  2025   4100625\n"
          ]
        }
      ]
    }
  ]
}