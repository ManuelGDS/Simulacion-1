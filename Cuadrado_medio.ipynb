{
  "nbformat": 4,
  "nbformat_minor": 0,
  "metadata": {
    "colab": {
      "provenance": [],
      "authorship_tag": "ABX9TyOh+qDUsDh7uPGApKwm3ECC",
      "include_colab_link": true
    },
    "kernelspec": {
      "name": "python3",
      "display_name": "Python 3"
    },
    "language_info": {
      "name": "python"
    }
  },
  "cells": [
    {
      "cell_type": "markdown",
      "metadata": {
        "id": "view-in-github",
        "colab_type": "text"
      },
      "source": [
        "<a href=\"https://colab.research.google.com/github/ManuelGDS/Simulacion-1/blob/main/Cuadrado_medio.ipynb\" target=\"_parent\"><img src=\"https://colab.research.google.com/assets/colab-badge.svg\" alt=\"Open In Colab\"/></a>"
      ]
    },
    {
      "cell_type": "code",
      "execution_count": 76,
      "metadata": {
        "id": "pkHBAZ-cIl0L"
      },
      "outputs": [],
      "source": [
        "\n",
        "#Metodo de gnracion de numeros pseudo aleatorios \"Cuadrado Medio\""
      ]
    },
    {
      "cell_type": "code",
      "source": [
        "x_0= \"4653\"\n",
        "n=10\n",
        "lista = [x_0]\n",
        "\n",
        "#Agregamos un ciclo for para hacerlo n veces\n",
        "for x in range (n):\n",
        "  #aqui elevamos nuestro primer digito\n",
        "  xelevado = (int(x_0)**2)\n",
        "  #print(xelevado)\n",
        "  #un if con la condicio de si el residuo es dif de 0 -> no es par\n",
        "  if (len(str(xelevado))%2) != 0:\n",
        "    #aqui convertimos nuestro int -> str\n",
        "    cadena = str(xelevado)\n",
        "    #este es un proceso para el fill\n",
        "    par = len(cadena)+1\n",
        "    #Aqui hacemos para el string añadiendole un cero al incio\n",
        "    cadena1 = cadena.zfill(par)\n",
        "    #aqui le quitamos los digitos del inicio del principio y final\n",
        "    xelevado = cadena1[2:6]\n",
        "    #Agregamos el digito de a nuestra lista\n",
        "    lista.append(xelevado)\n",
        "    x_0 = xelevado\n",
        "  else:\n",
        "    cadena = str(xelevado)\n",
        "    xelevado = int(cadena[2:6])\n",
        "    #print(indice)\n",
        "    lista.append(str(xelevado))\n",
        "    x_0=xelevado\n",
        "\n",
        "x=x+1\n",
        "\n",
        "print(lista)\n",
        "#print(len(cadena))\n",
        "#type(cadena)"
      ],
      "metadata": {
        "colab": {
          "base_uri": "https://localhost:8080/"
        },
        "id": "XwyCASn8IvXy",
        "outputId": "ce93648c-faf7-42de-f523-947f65e8a825"
      },
      "execution_count": 117,
      "outputs": [
        {
          "output_type": "stream",
          "name": "stdout",
          "text": [
            "['4653', '6504', '3020', '1204', '4496', '2140', '5796', '5936', '2360', '5696', '4444']\n"
          ]
        }
      ]
    }
  ]
}