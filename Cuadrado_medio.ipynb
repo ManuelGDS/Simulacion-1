{
  "nbformat": 4,
  "nbformat_minor": 0,
  "metadata": {
    "colab": {
      "provenance": [],
      "authorship_tag": "ABX9TyNQg3ekbSM9RmqtvfYtdlk3",
      "include_colab_link": true
    },
    "kernelspec": {
      "name": "python3",
      "display_name": "Python 3"
    },
    "language_info": {
      "name": "python"
    }
  },
  "cells": [
    {
      "cell_type": "markdown",
      "metadata": {
        "id": "view-in-github",
        "colab_type": "text"
      },
      "source": [
        "<a href=\"https://colab.research.google.com/github/ManuelGDS/Simulacion-1/blob/main/Cuadrado_medio.ipynb\" target=\"_parent\"><img src=\"https://colab.research.google.com/assets/colab-badge.svg\" alt=\"Open In Colab\"/></a>"
      ]
    },
    {
      "cell_type": "markdown",
      "source": [
        "Algoritmo de generación de números pseudo-aleatorios por medio del \"**Método del Cuadrado Medio**\" que está dado de la forma $x_{i+1} = x_{i}^2$ y se extraen cuatro digtos centrales.\n",
        "\n",
        "Donde: $x_i$ es la semilla."
      ],
      "metadata": {
        "id": "tCniigpvpBNR"
      }
    },
    {
      "cell_type": "code",
      "source": [
        "from tabulate import tabulate\n",
        "\n",
        "n = int(input(\"Ingrese el numero de iteraciones que quiere hacer: \"))\n",
        "x_0 = int(input(\"Ingre la semilla de 4 digitos: \"))\n",
        "matriz = []\n",
        "\n",
        "\n",
        "for i in range(n+1):\n",
        "\n",
        "  x1 = x_0**2\n",
        "\n",
        "  if (len(str(x1))%2) !=0: #Aqui se evalua la longitud para determinat si es inpar\n",
        "\n",
        "    cadena = str(x1)\n",
        "    par = len(cadena)+1\n",
        "    cadena1 = cadena.zfill(par)\n",
        "    nuevox = int(cadena1[2:6])\n",
        "\n",
        "  else:\n",
        "\n",
        "    cadena = str(x1)\n",
        "    nuevox = int(cadena[2:6])\n",
        "\n",
        "  iteracion = [i,x_0, x1]\n",
        "  matriz.append(iteracion)\n",
        "  x_0=nuevox\n",
        "\n",
        "print(tabulate(matriz,headers = (\"N\",\"Xn\", \"Xn^2\"), tablefmt='fancy_grid'))"
      ],
      "metadata": {
        "colab": {
          "base_uri": "https://localhost:8080/"
        },
        "id": "CLTBnG8EBSyn",
        "outputId": "d9193f30-e6b0-44bd-c9fd-e045d94591c8"
      },
      "execution_count": 1,
      "outputs": [
        {
          "output_type": "stream",
          "name": "stdout",
          "text": [
            "Ingrese el numero de iteraciones que quiere hacer10\n",
            "Ingre la semilla de 4 digitos3478\n",
            "╒═════╤══════╤══════════╕\n",
            "│   N │   Xn │     Xn^2 │\n",
            "╞═════╪══════╪══════════╡\n",
            "│   0 │ 3478 │ 12096484 │\n",
            "├─────┼──────┼──────────┤\n",
            "│   1 │  964 │   929296 │\n",
            "├─────┼──────┼──────────┤\n",
            "│   2 │ 9296 │ 86415616 │\n",
            "├─────┼──────┼──────────┤\n",
            "│   3 │ 4156 │ 17272336 │\n",
            "├─────┼──────┼──────────┤\n",
            "│   4 │ 2723 │  7414729 │\n",
            "├─────┼──────┼──────────┤\n",
            "│   5 │ 4147 │ 17197609 │\n",
            "├─────┼──────┼──────────┤\n",
            "│   6 │ 1976 │  3904576 │\n",
            "├─────┼──────┼──────────┤\n",
            "│   7 │ 9045 │ 81812025 │\n",
            "├─────┼──────┼──────────┤\n",
            "│   8 │ 8120 │ 65934400 │\n",
            "├─────┼──────┼──────────┤\n",
            "│   9 │ 9344 │ 87310336 │\n",
            "├─────┼──────┼──────────┤\n",
            "│  10 │ 3103 │  9628609 │\n",
            "╘═════╧══════╧══════════╛\n"
          ]
        }
      ]
    }
  ]
}