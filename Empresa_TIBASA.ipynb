{
  "nbformat": 4,
  "nbformat_minor": 0,
  "metadata": {
    "colab": {
      "provenance": [],
      "toc_visible": true,
      "authorship_tag": "ABX9TyP42MgbmbTOxnJ3FZUznq+s",
      "include_colab_link": true
    },
    "kernelspec": {
      "name": "python3",
      "display_name": "Python 3"
    },
    "language_info": {
      "name": "python"
    }
  },
  "cells": [
    {
      "cell_type": "markdown",
      "metadata": {
        "id": "view-in-github",
        "colab_type": "text"
      },
      "source": [
        "<a href=\"https://colab.research.google.com/github/ManuelGDS/Simulacion-1/blob/main/Empresa_TIBASA.ipynb\" target=\"_parent\"><img src=\"https://colab.research.google.com/assets/colab-badge.svg\" alt=\"Open In Colab\"/></a>"
      ]
    },
    {
      "cell_type": "markdown",
      "source": [
        "Gonzalezd de Santiago José Manuel"
      ],
      "metadata": {
        "id": "U4LEuRgz9E1B"
      }
    },
    {
      "cell_type": "markdown",
      "source": [
        "# Ejercicio 1"
      ],
      "metadata": {
        "id": "dOL_QU-awlSZ"
      }
    },
    {
      "cell_type": "markdown",
      "source": [
        "1. La empresa TIBASA (fabricante de tinas de baño) tiene asignado un camión especial\n",
        "para el transporte de tinas terminadas. Dicho camión transporta diariamente 5 tinas.\n",
        "El peso de cada tina sigue la siguiente distribución de probabilidad:\n",
        "![image.png](data:image/png;base64,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)\n",
        "\n"
      ],
      "metadata": {
        "id": "lCORntJO8z5T"
      }
    },
    {
      "cell_type": "markdown",
      "source": [
        "Si la capacidad del camión es de una tonelada, ¿cuál es la probabilidad de que el peso\n",
        "de las tinas exceda la capacidad del camión?"
      ],
      "metadata": {
        "id": "aH5kGGhL9Mlh"
      }
    },
    {
      "cell_type": "markdown",
      "source": [
        "# a) Resolver analíticamente."
      ],
      "metadata": {
        "id": "qcSR2dB_wteN"
      }
    },
    {
      "cell_type": "markdown",
      "source": [
        "$X_i$~$Tri(a,b,c)$\n",
        "\n",
        "Tenemos la condicion\n",
        "$x_1+x_2+x_3+x_4+x_5>1000$\n",
        "\n",
        "Primero determinamos la funcion para el trozo de $[190, 210]$"
      ],
      "metadata": {
        "id": "zznNfVuf9Vuy"
      }
    },
    {
      "cell_type": "markdown",
      "source": [
        "$m=\\frac{y_2-y_1}{x_2-x_1}$\n",
        "\n",
        "$m_1=\\frac{\\frac{1}{20}-0}{210-190}=\\frac{1}{400}$\n",
        "\n",
        "y ahora utilizando la formula de las rectas\n",
        "\n",
        "$y-y_1=m(x_1)$\n",
        "\n",
        "sustituyendo\n",
        "\n",
        "$y-0=\\frac{10}{400}(x-190)--> y=\\frac{1}{400}(x-190)$"
      ],
      "metadata": {
        "id": "u7Su8ilf-aci"
      }
    },
    {
      "cell_type": "markdown",
      "source": [
        "Ahora determinamos la funcion para el intervalo $[210, 230]$\n",
        "\n",
        "$m_2=\\frac{0-\\frac{1}{20}}{230-210}=-\\frac{1}{400}$\n",
        "\n",
        "y ahora deterinamos la recta\n",
        "\n",
        "$y=-\\frac{1}{400}(x-210)$"
      ],
      "metadata": {
        "id": "m8iXdSQlApZT"
      }
    },
    {
      "cell_type": "markdown",
      "source": [
        "Y nuestra función queda de la siguiente forma\n",
        "\n",
        "$f(x) = \\begin{cases}\n",
        "\\frac{1}{400}(x - 190) & \\text{si } 190 \\leq x \\leq 210 \\\\\n",
        "-\\frac{1}{400}(x - 210) & \\text{si } 219 \\leq x \\leq 230\n",
        "\\end{cases}$\n",
        "\n",
        "\n"
      ],
      "metadata": {
        "id": "vqc3BKiwHUgb"
      }
    },
    {
      "cell_type": "markdown",
      "source": [
        "Ahora el calculo de $\\mu$ y $\\sigma$\n",
        "\n",
        "$\\mu=E(x)=\\int_{x}^{210}xf(x)dx=210$\n",
        "\n",
        "$sigma^2=Var(x)=\\int_{190}^{230}(x-200)^2f(x)dx=\\frac{200}{3}$"
      ],
      "metadata": {
        "id": "n5hiY8xlK3pc"
      }
    },
    {
      "cell_type": "markdown",
      "source": [
        "Que calcular\n",
        "\n",
        "$P(x_1+x_2+x_3+x_4+x_5)$\n",
        "\n",
        "Usamos el teorema central del limite\n",
        "\n",
        "(valor para n>=4)\n",
        "\n",
        "$\\lim_{x \\to \\infty} P(\\frac{x_1+x_2+x_3+x_4+x_4}{\\sigma\\sqrt{n}}<x)=Q(x)$\n",
        "\n",
        "Escribimos\n",
        "\n",
        "$\\frac{x_1+x_2+x_3+x_4+x_5-5\\cdot210}{\\sqrt{\\frac{200}{3}}\\cdot\\sqrt{5}}<\\frac{1000-5\\cdot 210}{\\sqrt{\\frac{200}{3}}\\cdot \\sqrt{5}}$\n",
        "\n",
        "Luego,\n",
        "\n",
        "$\\frac{x_1+x_2+x_3+x_4+x_5}{\\sqrt{\\frac{210}{3}\\cdot5}}<-2.73$\n"
      ],
      "metadata": {
        "id": "VHPsyfZiL8tv"
      }
    },
    {
      "cell_type": "markdown",
      "source": [
        "Y sustituimos en el teorema\n",
        "\n",
        "$P(Z<-2.73)=Q(-2.73)$\n",
        "\n",
        "$P(x_1+x_2+x_3+x_4+x_4>1000)=1-Q(-2.73)$\n",
        "\n",
        "$=0.997=99.7\\%$"
      ],
      "metadata": {
        "id": "PxlGRG-Zhkda"
      }
    },
    {
      "cell_type": "markdown",
      "source": [
        "# b) Resolver por simulación"
      ],
      "metadata": {
        "id": "-36V9hE7w1BS"
      }
    },
    {
      "cell_type": "markdown",
      "source": [
        "Calculamos $F(x)$\n",
        "\n",
        "$f(x)>=0$\n",
        "\n",
        "\n",
        "$F(x)=\\int_{-\\infty}^{x}f(s)ds$ y como sigue una distribucion triangular podemos usar la definicion de Funcion de distribución.\n",
        "\n",
        "$$\n",
        "F(x)=\n",
        "\\begin{cases}\n",
        "0 & \\text{para } x \\leq a, \\\\\n",
        "\\frac{(x-a)^2}{(b-a)(c-a)} & \\text{para } a < x \\leq c, \\\\\n",
        "1 - \\frac{(b-x)^2}{(b-a)(b-c)} & \\text{para } c < x < b, \\\\\n",
        "1 & \\text{para } b \\leq x.\n",
        "\\end{cases}\n",
        "$$"
      ],
      "metadata": {
        "id": "zqq5RwjIxwwn"
      }
    },
    {
      "cell_type": "markdown",
      "source": [
        "Entonces tenemos\n",
        "\n",
        "\n",
        "$$\n",
        "F(x)=\n",
        "\\begin{cases}\n",
        "\\frac{(x-190)^2}{800} & \\text{si } 190 \\leq x <210, \\\\\n",
        "1 - \\frac{(230-x)^2}{800} & \\text{si } 210 \\leq x \\leq 230,\n",
        "\\end{cases}\n",
        "$$"
      ],
      "metadata": {
        "id": "9PK903vb1PEA"
      }
    },
    {
      "cell_type": "markdown",
      "source": [
        "Resolvemos $F(x)=R$\n",
        "\n",
        "$x=20\\sqrt{2u}+190$ si $0\\leq u\\leq \\frac{1}{2}$\n",
        "\n",
        "$x=-20\\sqrt{2(1-u)}+230$"
      ],
      "metadata": {
        "id": "oZYJCAHo3d-A"
      }
    },
    {
      "cell_type": "code",
      "source": [
        "import random as rnd\n",
        "import matplotlib.pyplot as plt\n",
        "import numpy as np\n",
        "import math"
      ],
      "metadata": {
        "id": "l2rU1Atgis8E"
      },
      "execution_count": null,
      "outputs": []
    },
    {
      "cell_type": "code",
      "source": [
        "def sim_tinas(n):\n",
        "  lista = []\n",
        "  for i in range(n):\n",
        "    u = rnd.random()\n",
        "    if u<.5:\n",
        "      x = 20 * math.sqrt(2*u)+190\n",
        "    else:\n",
        "      x = -20 * math.sqrt(2*(1-u))+230\n",
        "    lista.append(x)\n",
        "  return lista"
      ],
      "metadata": {
        "id": "6S7l86pP886e"
      },
      "execution_count": null,
      "outputs": []
    },
    {
      "cell_type": "code",
      "source": [
        "G = sim_tinas(100000)"
      ],
      "metadata": {
        "id": "xb6zNsS9uUvJ"
      },
      "execution_count": null,
      "outputs": []
    },
    {
      "cell_type": "code",
      "source": [
        "media = np.mean(G)"
      ],
      "metadata": {
        "id": "5sNVoBFvuX-R"
      },
      "execution_count": null,
      "outputs": []
    },
    {
      "cell_type": "code",
      "source": [
        "varianza = np.var(G)"
      ],
      "metadata": {
        "id": "TgMUP1nJuX6J"
      },
      "execution_count": null,
      "outputs": []
    },
    {
      "cell_type": "code",
      "source": [
        "plt.hist(G)"
      ],
      "metadata": {
        "colab": {
          "base_uri": "https://localhost:8080/",
          "height": 539
        },
        "id": "LB9xxwSRuXrY",
        "outputId": "466d02e2-9e8e-49c4-ecd2-eb5c7c9fee2a"
      },
      "execution_count": null,
      "outputs": [
        {
          "output_type": "execute_result",
          "data": {
            "text/plain": [
              "(array([ 2145.,  6074., 10187., 14127., 17996., 17813., 13795.,  9751.,\n",
              "         6078.,  2034.]),\n",
              " array([190.13798539, 194.12025097, 198.10251654, 202.08478211,\n",
              "        206.06704768, 210.04931325, 214.03157882, 218.0138444 ,\n",
              "        221.99610997, 225.97837554, 229.96064111]),\n",
              " <BarContainer object of 10 artists>)"
            ]
          },
          "metadata": {},
          "execution_count": 45
        },
        {
          "output_type": "display_data",
          "data": {
            "text/plain": [
              "<Figure size 640x480 with 1 Axes>"
            ],
            "image/png": "[encoded data removed]"
          },
          "metadata": {}
        }
      ]
    },
    {
      "cell_type": "code",
      "source": [
        "def cdf(G):\n",
        "  n = len(G)\n",
        "  x = np.sort(G)\n",
        "  y = np.arange(0, n)/n\n",
        "  return x, y"
      ],
      "metadata": {
        "id": "mFJPHvPCuhGp"
      },
      "execution_count": null,
      "outputs": []
    },
    {
      "cell_type": "code",
      "source": [
        "X, Y = cdf(G)"
      ],
      "metadata": {
        "id": "CcVnsygcug94"
      },
      "execution_count": null,
      "outputs": []
    },
    {
      "cell_type": "code",
      "source": [
        "media = (G)"
      ],
      "metadata": {
        "id": "HQMdbgc0ug5x"
      },
      "execution_count": null,
      "outputs": []
    },
    {
      "cell_type": "code",
      "source": [
        "plt.step(X,Y)"
      ],
      "metadata": {
        "colab": {
          "base_uri": "https://localhost:8080/",
          "height": 448
        },
        "id": "aajTYnqOug2R",
        "outputId": "18514897-00b5-4b4d-e55e-30f6f3a9daf2"
      },
      "execution_count": null,
      "outputs": [
        {
          "output_type": "execute_result",
          "data": {
            "text/plain": [
              "[<matplotlib.lines.Line2D at 0x79213512f100>]"
            ]
          },
          "metadata": {},
          "execution_count": 49
        },
        {
          "output_type": "display_data",
          "data": {
            "text/plain": [
              "<Figure size 640x480 with 1 Axes>"
            ],
            "image/png": "[encoded data removed]"
          },
          "metadata": {}
        }
      ]
    },
    {
      "cell_type": "code",
      "source": [
        "def sim_tinas(n):\n",
        "  lista = []\n",
        "  contador = 0\n",
        "  for k in range(n):\n",
        "\n",
        "    lista_1 = []\n",
        "    for i in range(5):\n",
        "      u = rnd.triangular(190,230,210)\n",
        "      lista_1.append(u)\n",
        "    cantidad = sum(lista_1)\n",
        "    if cantidad > 1000:\n",
        "      contador += 1\n",
        "      prob = contador/n\n",
        "      lista.append(prob)\n",
        "  return lista"
      ],
      "metadata": {
        "id": "MihHdOi-G2Wv"
      },
      "execution_count": null,
      "outputs": []
    },
    {
      "cell_type": "code",
      "source": [
        "def sim_tina(N):\n",
        "  lista = []\n",
        "  a = 190\n",
        "  b = 320\n",
        "  c = 210\n",
        "  contador = 0\n",
        "  for i in range(N):\n",
        "    u_1 = rnd.triangular(a,b,c)\n",
        "    u_2 = rnd.triangular(a,b,c)\n",
        "    u_3 = rnd.triangular(a,b,c)\n",
        "    u_4 = rnd.triangular(a,b,c)\n",
        "    u_5 = rnd.triangular(a,b,c)\n",
        "    if (u_1+u_2+u_3+u_4+u_5)>1000:\n",
        "      contador = contador +1\n",
        "      prob=contador/N\n",
        "      lista.append(prob)\n",
        "  return lista\n",
        "\n"
      ],
      "metadata": {
        "id": "fFtBE1jEnYgo"
      },
      "execution_count": null,
      "outputs": []
    },
    {
      "cell_type": "markdown",
      "source": [
        "# Ejercicio 2"
      ],
      "metadata": {
        "id": "4gIFEQkow-Dp"
      }
    },
    {
      "cell_type": "markdown",
      "source": [
        "Analice la conveniencia de adquirir un nuevo camión. Para tal propósito, suponga que\n",
        "cada vez que la capacidad del camión es excedida una tina es enviada a través de otra\n",
        "compañía a un costo de $\\$200$. También suponga que el costo promedio anual de un\n",
        "nuevo camión es de $\\$60, 000$. Si se trabaja 5 días a la semana y 52 semanas al año,\n",
        "¿cuál de las dos alternativas mencionadas es la más atractiva?"
      ],
      "metadata": {
        "id": "iLbK_52zxCaD"
      }
    },
    {
      "cell_type": "markdown",
      "source": [
        "# a) Resolver analíticamente."
      ],
      "metadata": {
        "id": "PPNAlNfMxWdi"
      }
    },
    {
      "cell_type": "markdown",
      "source": [
        "Tenemos 5 dias y 52 semanas\n",
        "\n",
        "5 dias $\\cdot$ 52 semanas = 260 dias\n",
        "\n",
        "260 dias $-> 100\\%$\n",
        "\n",
        "x $-> 99.7\\%$\n",
        "\n",
        "$x=\\frac{260\\cdot99.7}{100}=259$ días\n",
        "\n",
        "Costo $=259\\cdot \\$200=\\$51800$"
      ],
      "metadata": {
        "id": "wB9cejSDxlMg"
      }
    },
    {
      "cell_type": "markdown",
      "source": [
        "#b) Resolver por simulación."
      ],
      "metadata": {
        "id": "6L7pbWeHxaFQ"
      }
    }
  ]
}