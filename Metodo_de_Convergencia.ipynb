{
  "nbformat": 4,
  "nbformat_minor": 0,
  "metadata": {
    "colab": {
      "provenance": [],
      "authorship_tag": "ABX9TyNqLkE5mo4gS5p1mflZvDoJ",
      "include_colab_link": true
    },
    "kernelspec": {
      "name": "python3",
      "display_name": "Python 3"
    },
    "language_info": {
      "name": "python"
    }
  },
  "cells": [
    {
      "cell_type": "markdown",
      "metadata": {
        "id": "view-in-github",
        "colab_type": "text"
      },
      "source": [
        "<a href=\"https://colab.research.google.com/github/ManuelGDS/Simulacion-1/blob/main/Metodo_de_Convergencia.ipynb\" target=\"_parent\"><img src=\"https://colab.research.google.com/assets/colab-badge.svg\" alt=\"Open In Colab\"/></a>"
      ]
    },
    {
      "cell_type": "markdown",
      "source": [
        "Aqui llevamos acabo un algoritmo de silumalcion de numeros pseudoaleatorios llamado Metodo de Convergencia  y esta dado por la forma\n",
        "X_n+1 = aXn + C (mod m), 0<X0<m"
      ],
      "metadata": {
        "id": "bc53yqLYaB4h"
      }
    },
    {
      "cell_type": "code",
      "source": [
        "from tabulate import tabulate\n",
        "x_0 = int(input(\"Ingrese la semilla: \"))\n",
        "a = int(input(\"Ingrese la constante a: \"))\n",
        "c = int(input(\"Ingrese la constante c: \"))\n",
        "m = int(input(\"Ingrese el modulo: \"))\n",
        "n = int(input(\"Ingrese el numero de interaciones a desarrolar: \"))\n",
        "\n",
        "\n",
        "matriz = []\n",
        "\n",
        "for i in range(0, n+1):\n",
        "\n",
        "  xi = (a*x_0)+ c\n",
        "  xmod = xi % 16\n",
        "  xn = x_0/m\n",
        "  xiter = [i, x_0, xi, xmod, xn]\n",
        "  matriz.append(xiter)\n",
        "  x_0 = xmod\n",
        "\n",
        "print(tabulate(matriz,headers = (\"N\",\"Xi\", \"aXn+C\", \"aXn + C (mod)\", \"Xn/mod\" )))"
      ],
      "metadata": {
        "colab": {
          "base_uri": "https://localhost:8080/"
        },
        "id": "Gm8WC-yqXeg4",
        "outputId": "2a73225a-a09e-4509-f8ad-2d3852d3d0d2"
      },
      "execution_count": 1,
      "outputs": [
        {
          "output_type": "stream",
          "name": "stdout",
          "text": [
            "Ingrese la semilla: 1\n",
            "Ingrese la constante a: 13\n",
            "Ingrese la constante c: 0\n",
            "Ingrese el modulo: 64\n",
            "Ingrese el numero de interaciones a desarrolar: 20\n",
            "  N    Xi    aXn+C    aXn + C (mod)    Xn/mod\n",
            "---  ----  -------  ---------------  --------\n",
            "  0     1       13               13  0.015625\n",
            "  1    13      169                9  0.203125\n",
            "  2     9      117                5  0.140625\n",
            "  3     5       65                1  0.078125\n",
            "  4     1       13               13  0.015625\n",
            "  5    13      169                9  0.203125\n",
            "  6     9      117                5  0.140625\n",
            "  7     5       65                1  0.078125\n",
            "  8     1       13               13  0.015625\n",
            "  9    13      169                9  0.203125\n",
            " 10     9      117                5  0.140625\n",
            " 11     5       65                1  0.078125\n",
            " 12     1       13               13  0.015625\n",
            " 13    13      169                9  0.203125\n",
            " 14     9      117                5  0.140625\n",
            " 15     5       65                1  0.078125\n",
            " 16     1       13               13  0.015625\n",
            " 17    13      169                9  0.203125\n",
            " 18     9      117                5  0.140625\n",
            " 19     5       65                1  0.078125\n",
            " 20     1       13               13  0.015625\n"
          ]
        }
      ]
    },
    {
      "cell_type": "markdown",
      "source": [
        "El siguiente es un borrador pero lo deje por la funcion zip que aprendi a usar"
      ],
      "metadata": {
        "id": "XRtgZSi5PgMV"
      }
    },
    {
      "cell_type": "code",
      "source": [
        "from tabulate import tabulate\n",
        "x_0 = int(input(\"Ingrese la semilla: \"))\n",
        "a = int(input(\"Ingrese la constante a: \"))\n",
        "c = int(input(\"Ingrese la constante c: \"))\n",
        "m = int(input(\"Ingrese el modulo: \"))\n",
        "n = int(input(\"Ingrese el numero de interaciones a desarrolar: \"))\n",
        "lista = []\n",
        "lista2 = []\n",
        "lista3 = []\n",
        "lista4 = []\n",
        "\n",
        "matriz = []\n",
        "\n",
        "for i in range(n):\n",
        "  lista.append(x_0)\n",
        "  xi = (a*x_0)+ c\n",
        "  lista2.append(xi)\n",
        "  xmod = xi % 16\n",
        "  lista3.append(xmod)\n",
        "  xn = x_0/m\n",
        "  lista4.append(round(xn,3))\n",
        "  #xiter = []\n",
        "  #xiter.append(x_0, xi, xmod, xn)\n",
        "  #matriz.append(x_0, xi, xmod, round(xn,3))\n",
        "  x_0 = xmod\n",
        "\n",
        "\n",
        "#print(tabulate(matriz,headers = (\"Xn\", \"aXn+C\", \"aXn + C (mod)\", \"Xn/mod\" )))\n",
        "#listanueva = zip(lista,lista2,lista3,lista4)\n",
        "#for j, k, r, s in zip(lista,lista2,lista3,lista4):\n",
        " # print(j, k, r, s)"
      ],
      "metadata": {
        "id": "L4zADC2VZBmA"
      },
      "execution_count": null,
      "outputs": []
    }
  ]
}