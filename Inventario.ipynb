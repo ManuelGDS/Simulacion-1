{
  "nbformat": 4,
  "nbformat_minor": 0,
  "metadata": {
    "colab": {
      "provenance": [],
      "authorship_tag": "ABX9TyN1UKq2TX7ywczAH26iggGw",
      "include_colab_link": true
    },
    "kernelspec": {
      "name": "python3",
      "display_name": "Python 3"
    },
    "language_info": {
      "name": "python"
    }
  },
  "cells": [
    {
      "cell_type": "markdown",
      "metadata": {
        "id": "view-in-github",
        "colab_type": "text"
      },
      "source": [
        "<a href=\"https://colab.research.google.com/github/ManuelGDS/Simulacion-1/blob/main/Inventario.ipynb\" target=\"_parent\"><img src=\"https://colab.research.google.com/assets/colab-badge.svg\" alt=\"Open In Colab\"/></a>"
      ]
    },
    {
      "cell_type": "markdown",
      "source": [
        "# **González de Santiago José Manuel**"
      ],
      "metadata": {
        "id": "sShmJLgxhkKT"
      }
    },
    {
      "cell_type": "code",
      "execution_count": 1,
      "metadata": {
        "id": "KQsbCJjCurGL"
      },
      "outputs": [],
      "source": [
        "import random as rnd\n",
        "import numpy as np\n",
        "from tabulate import tabulate"
      ]
    },
    {
      "cell_type": "code",
      "source": [
        "def unif(): #Esta funcion nos devuelve el numero aleatorio con distribucio u(0,1)\n",
        "  u = rnd.random()\n",
        "  return u"
      ],
      "metadata": {
        "id": "LR7fUy84NqiK"
      },
      "execution_count": 2,
      "outputs": []
    },
    {
      "cell_type": "code",
      "source": [
        "def valor_dem(u): #Esta funcion nos regresa el valor de x mediante la evaluacion de la transformada inverssa\n",
        "    if 0.000 <= u < 0.010: #para simular los valores de la demanda tabala 5,9\n",
        "        x = 35\n",
        "    elif 0.010 <= u < 0.025:\n",
        "        x = 36\n",
        "    elif 0.025 <= u < 0.045:\n",
        "        x = 37\n",
        "    elif 0.045 <= u < 0.065:\n",
        "        x = 38\n",
        "    elif 0.065 <= u < 0.087:\n",
        "        x = 39\n",
        "    elif 0.087 <= u < 0.110:\n",
        "        x = 40\n",
        "    elif 0.110 <= u < 0.135:\n",
        "        x = 41\n",
        "    elif 0.135 <= u < 0.162:\n",
        "        x = 42\n",
        "    elif 0.162 <= u < 0.190:\n",
        "        x = 43\n",
        "    elif 0.190 <= u < 0.219:\n",
        "        x = 44\n",
        "    elif 0.219 <= u < 0.254:\n",
        "        x = 45\n",
        "    elif 0.254 <= u < 0.299:\n",
        "        x = 46\n",
        "    elif 0.299 <= u < 0.359:\n",
        "        x = 47\n",
        "    elif 0.359 <= u < 0.424:\n",
        "        x = 48\n",
        "    elif 0.424 <= u < 0.494:\n",
        "        x = 49\n",
        "    elif 0.494 <= u < 0.574:\n",
        "        x = 50\n",
        "    elif 0.574 <= u < 0.649:\n",
        "        x = 51\n",
        "    elif 0.649 <= u < 0.719:\n",
        "        x = 52\n",
        "    elif 0.719 <= u < 0.784:\n",
        "        x = 53\n",
        "    elif 0.784 <= u < 0.844:\n",
        "        x = 54\n",
        "    elif 0.844 <= u < 0.894:\n",
        "        x = 55\n",
        "    elif 0.894 <= u < 0.934:\n",
        "        x = 56\n",
        "    elif 0.934 <= u < 0.964:\n",
        "        x = 57\n",
        "    elif 0.964 <= u < 0.980:\n",
        "        x = 58\n",
        "    elif 0.980 <= u < 0.995:\n",
        "        x = 59\n",
        "    elif 0.995 <= u <= 1.000:\n",
        "        x = 60\n",
        "    else:\n",
        "        x = None  # Caso en que R esté fuera de los intervalos definidos\n",
        "    return x"
      ],
      "metadata": {
        "id": "MmFBC13CI3Hf"
      },
      "execution_count": 3,
      "outputs": []
    },
    {
      "cell_type": "code",
      "source": [
        "def valor_tentrega(u): #Esta funcion es para que nos regresa el tiempo de entraga tabala 5.10\n",
        "  if 0.00 <= u < 0.30:\n",
        "        x = 1\n",
        "  elif 0.30 <= u < 0.70:\n",
        "      x = 2\n",
        "  elif 0.70 <= u <= 1.00:\n",
        "      x = 3\n",
        "  return x"
      ],
      "metadata": {
        "id": "90JMGfWrhOqG"
      },
      "execution_count": 4,
      "outputs": []
    },
    {
      "cell_type": "code",
      "source": [
        "def obtener_valor(diccionario, i): #esta funcion nos devuelve la llave del diciconario del siguiente bloque\n",
        "  return diccionario.get(i, \"llave no encontrada\") #necesita los"
      ],
      "metadata": {
        "id": "v90P3u48DY_O"
      },
      "execution_count": 5,
      "outputs": []
    },
    {
      "cell_type": "code",
      "source": [
        "factores_est = { 1: 1.20, #Este es un diccionario con valor que corresponde al mes y llave a su factor estacional\n",
        "  2: 1.00,\n",
        "  3: 0.90,\n",
        "  4: 0.80,\n",
        "  5: 0.80,\n",
        "  6: 0.70,\n",
        "  7: 0.80,\n",
        "  8: 0.90,\n",
        "  9: 1.00,\n",
        "  10: 1.20,\n",
        "  11: 1.30,\n",
        "  12: 1.40}\n"
      ],
      "metadata": {
        "id": "iw9yveYGRsi4"
      },
      "execution_count": 6,
      "outputs": []
    },
    {
      "cell_type": "code",
      "source": [
        "def inventario(inventario_ini): #Esta funcion requiere del inventario inicial para ejecutarse\n",
        "  q = 200\n",
        "  r = 100\n",
        "  contador_orden = 1\n",
        "  inv_ini = inventario_ini #Esta variable es para que se vaya actualizando el inventario pero tomando el valor de inventario inicial que se elija\n",
        "  lista_tab = []\n",
        "  for i in range(1, 13): #Este bucle es de 1 a 13 para considerar los 12 meses\n",
        "    ui = unif() #Aqui llamamos a nustra funcion de numero aleatorio\n",
        "    transformadax = valor_dem(ui) #Aqui llamamos a nuestra\n",
        "    valor = obtener_valor(factores_est, i) #Aqui llamamos a los facotres estcionales dandole el diccionario y el indice de la itreracion\n",
        "    dem_adjs = round(valor*transformadax) #Aqui hacemos la operacion de la demanda ajustada y redondeamos\n",
        "    inv_final = inv_ini - dem_adjs #El calculo del inventario final\n",
        "    inv_men_prom =  (inv_ini + inv_final)/2\n",
        "    lista_iter = [i, inv_ini, ui, dem_adjs, inv_final, inv_men_prom]\n",
        "    if inv_final < r:\n",
        "      time_entrega = valor_tentrega(ui)\n",
        "      if i == time_entrega:\n",
        "        inv_ini = inv_final + q\n",
        "      elif i != time_entrega:\n",
        "        i += time_entrega\n",
        "        inv_ini\n",
        "      else:\n",
        "        inv_ini = inv_final\n",
        "\n",
        "    else:\n",
        "      inv_ini = inv_final\n",
        "\n",
        "    lista_tab.append(lista_iter)\n",
        "\n",
        "  return  lista_tab\n"
      ],
      "metadata": {
        "id": "gi6jzYJUvBwV"
      },
      "execution_count": 58,
      "outputs": []
    },
    {
      "cell_type": "code",
      "source": [
        "def tabular(lista_tab): #Esta nos regresara ya la tabla elaborada, mas fancy\n",
        "  tabla = print(tabulate(lista_tab,headers = (\"Mes\",\"Inventario inicial\", \"numero aleatorio\",\"Demanda ajustada\", \"inventario final\", \"inventario final promedio\" ),  tablefmt='grid'))\n",
        "  return tabla"
      ],
      "metadata": {
        "id": "vUp2iVvrnsCe"
      },
      "execution_count": 59,
      "outputs": []
    },
    {
      "cell_type": "code",
      "source": [
        "tabular(inventario(150))"
      ],
      "metadata": {
        "colab": {
          "base_uri": "https://localhost:8080/"
        },
        "id": "BptfCgTcNb75",
        "outputId": "e037dfa7-5bde-4126-aa3d-64faf892112c"
      },
      "execution_count": 60,
      "outputs": [
        {
          "output_type": "stream",
          "name": "stdout",
          "text": [
            "+-------+----------------------+--------------------+--------------------+--------------------+-----------------------------+\n",
            "|   Mes |   Inventario inicial |   numero aleatorio |   Demanda ajustada |   inventario final |   inventario final promedio |\n",
            "+=======+======================+====================+====================+====================+=============================+\n",
            "|     1 |                  150 |          0.700238  |                 62 |                 88 |                       119   |\n",
            "+-------+----------------------+--------------------+--------------------+--------------------+-----------------------------+\n",
            "|     2 |                   88 |          0.615325  |                 51 |                 37 |                        62.5 |\n",
            "+-------+----------------------+--------------------+--------------------+--------------------+-----------------------------+\n",
            "|     3 |                  237 |          0.47274   |                 44 |                193 |                       215   |\n",
            "+-------+----------------------+--------------------+--------------------+--------------------+-----------------------------+\n",
            "|     4 |                  193 |          0.465882  |                 39 |                154 |                       173.5 |\n",
            "+-------+----------------------+--------------------+--------------------+--------------------+-----------------------------+\n",
            "|     5 |                  154 |          0.143621  |                 34 |                120 |                       137   |\n",
            "+-------+----------------------+--------------------+--------------------+--------------------+-----------------------------+\n",
            "|     6 |                  120 |          0.320571  |                 33 |                 87 |                       103.5 |\n",
            "+-------+----------------------+--------------------+--------------------+--------------------+-----------------------------+\n",
            "|     7 |                   87 |          0.0727667 |                 31 |                 56 |                        71.5 |\n",
            "+-------+----------------------+--------------------+--------------------+--------------------+-----------------------------+\n",
            "|     8 |                   56 |          0.879093  |                 50 |                  6 |                        31   |\n",
            "+-------+----------------------+--------------------+--------------------+--------------------+-----------------------------+\n",
            "|     9 |                    6 |          0.927215  |                 56 |                -50 |                       -22   |\n",
            "+-------+----------------------+--------------------+--------------------+--------------------+-----------------------------+\n",
            "|    10 |                  -50 |          0.0818041 |                 47 |                -97 |                       -73.5 |\n",
            "+-------+----------------------+--------------------+--------------------+--------------------+-----------------------------+\n",
            "|    11 |                  -97 |          0.534255  |                 65 |               -162 |                      -129.5 |\n",
            "+-------+----------------------+--------------------+--------------------+--------------------+-----------------------------+\n",
            "|    12 |                 -162 |          0.596102  |                 71 |               -233 |                      -197.5 |\n",
            "+-------+----------------------+--------------------+--------------------+--------------------+-----------------------------+\n"
          ]
        }
      ]
    },
    {
      "cell_type": "markdown",
      "source": [
        "# Aún no está terminado, lo seguire actualizando hasta que quede, avance 70\\%**"
      ],
      "metadata": {
        "id": "zZofx19dgq6q"
      }
    }
  ]
}