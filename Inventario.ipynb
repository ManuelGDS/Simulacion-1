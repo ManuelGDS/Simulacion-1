{
  "nbformat": 4,
  "nbformat_minor": 0,
  "metadata": {
    "colab": {
      "provenance": [],
      "include_colab_link": true
    },
    "kernelspec": {
      "name": "python3",
      "display_name": "Python 3"
    },
    "language_info": {
      "name": "python"
    }
  },
  "cells": [
    {
      "cell_type": "markdown",
      "metadata": {
        "id": "view-in-github",
        "colab_type": "text"
      },
      "source": [
        "<a href=\"https://colab.research.google.com/github/ManuelGDS/Simulacion-1/blob/main/Inventario.ipynb\" target=\"_parent\"><img src=\"https://colab.research.google.com/assets/colab-badge.svg\" alt=\"Open In Colab\"/></a>"
      ]
    },
    {
      "cell_type": "markdown",
      "source": [
        "# **González de Santiago José Manuel**"
      ],
      "metadata": {
        "id": "sShmJLgxhkKT"
      }
    },
    {
      "cell_type": "code",
      "execution_count": 59,
      "metadata": {
        "id": "KQsbCJjCurGL"
      },
      "outputs": [],
      "source": [
        "import random as rnd\n",
        "import numpy as np\n",
        "from tabulate import tabulate"
      ]
    },
    {
      "cell_type": "code",
      "source": [
        "def unif(): #Esta funcion nos devuelve el numero aleatorio con distribucio u(0,1)\n",
        "  u = rnd.random()\n",
        "  return u"
      ],
      "metadata": {
        "id": "LR7fUy84NqiK"
      },
      "execution_count": 60,
      "outputs": []
    },
    {
      "cell_type": "code",
      "source": [
        "def valor_dem(u): #Esta funcion nos regresa el valor de x mediante la evaluacion de la transformada inverssa\n",
        "    if 0.000 <= u < 0.010: #para simular los valores de la demanda tabala 5,9\n",
        "        x = 35\n",
        "    elif 0.010 <= u < 0.025:\n",
        "        x = 36\n",
        "    elif 0.025 <= u < 0.045:\n",
        "        x = 37\n",
        "    elif 0.045 <= u < 0.065:\n",
        "        x = 38\n",
        "    elif 0.065 <= u < 0.087:\n",
        "        x = 39\n",
        "    elif 0.087 <= u < 0.110:\n",
        "        x = 40\n",
        "    elif 0.110 <= u < 0.135:\n",
        "        x = 41\n",
        "    elif 0.135 <= u < 0.162:\n",
        "        x = 42\n",
        "    elif 0.162 <= u < 0.190:\n",
        "        x = 43\n",
        "    elif 0.190 <= u < 0.219:\n",
        "        x = 44\n",
        "    elif 0.219 <= u < 0.254:\n",
        "        x = 45\n",
        "    elif 0.254 <= u < 0.299:\n",
        "        x = 46\n",
        "    elif 0.299 <= u < 0.359:\n",
        "        x = 47\n",
        "    elif 0.359 <= u < 0.424:\n",
        "        x = 48\n",
        "    elif 0.424 <= u < 0.494:\n",
        "        x = 49\n",
        "    elif 0.494 <= u < 0.574:\n",
        "        x = 50\n",
        "    elif 0.574 <= u < 0.649:\n",
        "        x = 51\n",
        "    elif 0.649 <= u < 0.719:\n",
        "        x = 52\n",
        "    elif 0.719 <= u < 0.784:\n",
        "        x = 53\n",
        "    elif 0.784 <= u < 0.844:\n",
        "        x = 54\n",
        "    elif 0.844 <= u < 0.894:\n",
        "        x = 55\n",
        "    elif 0.894 <= u < 0.934:\n",
        "        x = 56\n",
        "    elif 0.934 <= u < 0.964:\n",
        "        x = 57\n",
        "    elif 0.964 <= u < 0.980:\n",
        "        x = 58\n",
        "    elif 0.980 <= u < 0.995:\n",
        "        x = 59\n",
        "    elif 0.995 <= u <= 1.000:\n",
        "        x = 60\n",
        "    else:\n",
        "        x = None  # Caso en que R esté fuera de los intervalos definidos\n",
        "    return x"
      ],
      "metadata": {
        "id": "MmFBC13CI3Hf"
      },
      "execution_count": 61,
      "outputs": []
    },
    {
      "cell_type": "code",
      "source": [
        "def valor_tentrega(u): #Esta funcion es para que nos regresa el tiempo de entraga tabala 5.10\n",
        "  if 0.00 <= u < 0.30:\n",
        "      x = 1\n",
        "  elif 0.30 <= u < 0.70:\n",
        "      x = 2\n",
        "  elif 0.70 <= u <= 1.00:\n",
        "      x = 3\n",
        "  return x"
      ],
      "metadata": {
        "id": "90JMGfWrhOqG"
      },
      "execution_count": 62,
      "outputs": []
    },
    {
      "cell_type": "code",
      "source": [
        "def obtener_valor(diccionario, i): #esta funcion nos devuelve la llave del diciconario del siguiente bloque\n",
        "  return diccionario.get(i, \"llave no encontrada\") #necesita los"
      ],
      "metadata": {
        "id": "v90P3u48DY_O"
      },
      "execution_count": 63,
      "outputs": []
    },
    {
      "cell_type": "code",
      "source": [
        "factores_est = { 1: 1.20, #Este es un diccionario con valor que corresponde al mes y llave a su factor estacional\n",
        "  2: 1.00,\n",
        "  3: 0.90,\n",
        "  4: 0.80,\n",
        "  5: 0.80,\n",
        "  6: 0.70,\n",
        "  7: 0.80,\n",
        "  8: 0.90,\n",
        "  9: 1.00,\n",
        "  10: 1.20,\n",
        "  11: 1.30,\n",
        "  12: 1.40}\n"
      ],
      "metadata": {
        "id": "iw9yveYGRsi4"
      },
      "execution_count": 64,
      "outputs": []
    },
    {
      "cell_type": "code",
      "source": [
        "def inventario(inventario_ini): # Esta función requiere del inventario inicial para ejecutarse\n",
        "    q = 200\n",
        "    r = 100\n",
        "    inv_ini = inventario_ini # Esta variable es para que se vaya actualizando el inventario pero tomando el valor de inventario inicial que se elija\n",
        "    lista_tab = []\n",
        "    lista_faltante = []\n",
        "    lista_inv_mes_prom = []\n",
        "    lista_ordenar = []\n",
        "    tiempo_espera = 0\n",
        "\n",
        "    for i in range(1, 13): # Este bucle es de 1 a 13 para considerar los 12 meses\n",
        "\n",
        "        ui = unif() # Aquí llamamos a nuestra función de número aleatorio\n",
        "\n",
        "        if tiempo_espera > 0:\n",
        "            tiempo_espera -= 1\n",
        "            if tiempo_espera == 0:\n",
        "                inv_ini = inv_final + q\n",
        "                lista_ordenar.append(1)\n",
        "\n",
        "        transformadax = valor_dem(ui) # Aquí llamamos a nuestra\n",
        "\n",
        "        valor = obtener_valor(factores_est, i) # Aquí llamamos a los factores estacionales dándole el diccionario y el índice de la iteración\n",
        "\n",
        "        dem_adjs = round(valor * transformadax) # Aquí hacemos la operación de la demanda ajustada y redondeamos\n",
        "\n",
        "        #inv_final = inv_ini - dem_adjs # El cálculo del inventario final\n",
        "\n",
        "\n",
        "        if inv_ini < dem_adjs:\n",
        "          inv_final = 0\n",
        "          faltante = -(inv_ini-dem_adjs)\n",
        "          lista_faltante.append(faltante)\n",
        "\n",
        "        else:\n",
        "          inv_final = inv_ini - dem_adjs\n",
        "          faltante = 0\n",
        "\n",
        "        inv_mes_prom = (inv_ini + inv_final) / 2 # Cálculo del inventario final promedio\n",
        "\n",
        "\n",
        "        lista_iter = [i, inv_ini, ui, dem_adjs, inv_final, faltante,tiempo_espera ,inv_mes_prom]\n",
        "\n",
        "        lista_tab.append(lista_iter)\n",
        "\n",
        "        if inv_final < r and tiempo_espera == 0:\n",
        "            u_entrega = unif()\n",
        "            tiempo_espera = valor_tentrega(u_entrega)\n",
        "        lista_inv_mes_prom.append(inv_mes_prom)\n",
        "        inv_ini = inv_final\n",
        "\n",
        "    return lista_tab, lista_inv_mes_prom, lista_faltante, lista_ordenar\n"
      ],
      "metadata": {
        "id": "LYfeFGx0BfW3"
      },
      "execution_count": 76,
      "outputs": []
    },
    {
      "cell_type": "code",
      "source": [
        "def tabular(lista_tab): #Esta nos regresara ya la tabla elaborada, mas fancy\n",
        "  tabla = print(tabulate(lista_tab[0],headers = (\"Mes\",\"Inventario inicial\", \"Numero aleatorio\",\"Demanda ajustada\", \"inventario final\", \"Faltante\",\"Orden\",\"inventario final promedio\" ),  tablefmt='grid'))\n",
        "\n",
        "  return tabla"
      ],
      "metadata": {
        "id": "vUp2iVvrnsCe"
      },
      "execution_count": 77,
      "outputs": []
    },
    {
      "cell_type": "code",
      "source": [
        "def Costos(lista_inv_mes_prom, lista_faltante, lista_ordenar):\n",
        "  costo_inv = sum(lista_inv_mes_prom[1])*1.67\n",
        "  var1 = f\"el costo de invetario es {costo_inv}\"\n",
        "  costo_faltante = sum(lista_faltante[2])*50\n",
        "  var2 = f\"El costo de faltante es {costo_faltante}\"\n",
        "  costo_ordenar = len(lista_ordenar[3])*100\n",
        "  var3 = f\"El costo de inventario es {costo_ordenar}\"\n",
        "  costo_total = costo_inv + costo_faltante + costo_ordenar\n",
        "  var4 = f\"El costo total de incentario es {costo_total}\"\n",
        "\n",
        "  return costo_inv, costo_faltante"
      ],
      "metadata": {
        "id": "307ybHgZOmpA"
      },
      "execution_count": 82,
      "outputs": []
    },
    {
      "cell_type": "code",
      "source": [
        "tabular(inventario(150))"
      ],
      "metadata": {
        "colab": {
          "base_uri": "https://localhost:8080/"
        },
        "id": "BptfCgTcNb75",
        "outputId": "7a9d38fd-498e-4a53-93ec-0f9824460b44"
      },
      "execution_count": 86,
      "outputs": [
        {
          "output_type": "stream",
          "name": "stdout",
          "text": [
            "+-------+----------------------+--------------------+--------------------+--------------------+------------+---------+-----------------------------+\n",
            "|   Mes |   Inventario inicial |   Numero aleatorio |   Demanda ajustada |   inventario final |   Faltante |   Orden |   inventario final promedio |\n",
            "+=======+======================+====================+====================+====================+============+=========+=============================+\n",
            "|     1 |                  150 |          0.949034  |                 68 |                 82 |          0 |       0 |                       116   |\n",
            "+-------+----------------------+--------------------+--------------------+--------------------+------------+---------+-----------------------------+\n",
            "|     2 |                   82 |          0.176509  |                 43 |                 39 |          0 |       2 |                        60.5 |\n",
            "+-------+----------------------+--------------------+--------------------+--------------------+------------+---------+-----------------------------+\n",
            "|     3 |                   39 |          0.886427  |                 50 |                  0 |         11 |       1 |                        19.5 |\n",
            "+-------+----------------------+--------------------+--------------------+--------------------+------------+---------+-----------------------------+\n",
            "|     4 |                  200 |          0.12948   |                 33 |                167 |          0 |       0 |                       183.5 |\n",
            "+-------+----------------------+--------------------+--------------------+--------------------+------------+---------+-----------------------------+\n",
            "|     5 |                  167 |          0.0283496 |                 30 |                137 |          0 |       0 |                       152   |\n",
            "+-------+----------------------+--------------------+--------------------+--------------------+------------+---------+-----------------------------+\n",
            "|     6 |                  137 |          0.931842  |                 39 |                 98 |          0 |       0 |                       117.5 |\n",
            "+-------+----------------------+--------------------+--------------------+--------------------+------------+---------+-----------------------------+\n",
            "|     7 |                   98 |          0.921854  |                 45 |                 53 |          0 |       1 |                        75.5 |\n",
            "+-------+----------------------+--------------------+--------------------+--------------------+------------+---------+-----------------------------+\n",
            "|     8 |                  253 |          0.973541  |                 52 |                201 |          0 |       0 |                       227   |\n",
            "+-------+----------------------+--------------------+--------------------+--------------------+------------+---------+-----------------------------+\n",
            "|     9 |                  201 |          0.139444  |                 42 |                159 |          0 |       0 |                       180   |\n",
            "+-------+----------------------+--------------------+--------------------+--------------------+------------+---------+-----------------------------+\n",
            "|    10 |                  159 |          0.276765  |                 55 |                104 |          0 |       0 |                       131.5 |\n",
            "+-------+----------------------+--------------------+--------------------+--------------------+------------+---------+-----------------------------+\n",
            "|    11 |                  104 |          0.101609  |                 52 |                 52 |          0 |       0 |                        78   |\n",
            "+-------+----------------------+--------------------+--------------------+--------------------+------------+---------+-----------------------------+\n",
            "|    12 |                  252 |          0.881508  |                 77 |                175 |          0 |       0 |                       213.5 |\n",
            "+-------+----------------------+--------------------+--------------------+--------------------+------------+---------+-----------------------------+\n"
          ]
        }
      ]
    },
    {
      "cell_type": "code",
      "source": [],
      "metadata": {
        "id": "drmoRSxNWekP"
      },
      "execution_count": null,
      "outputs": []
    },
    {
      "cell_type": "markdown",
      "source": [
        "# No lo pude concluir**"
      ],
      "metadata": {
        "id": "zZofx19dgq6q"
      }
    }
  ]
}