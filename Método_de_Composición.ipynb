{
  "cells": [
    {
      "cell_type": "markdown",
      "metadata": {
        "id": "view-in-github",
        "colab_type": "text"
      },
      "source": [
        "<a href=\"https://colab.research.google.com/github/ManuelGDS/Simulacion-1/blob/main/M%C3%A9todo_de_Composici%C3%B3n.ipynb\" target=\"_parent\"><img src=\"https://colab.research.google.com/assets/colab-badge.svg\" alt=\"Open In Colab\"/></a>"
      ]
    },
    {
      "cell_type": "markdown",
      "metadata": {
        "id": "dwP1iIo186X0"
      },
      "source": [
        "# **Gonzáles de Santiago José Manuel**"
      ]
    },
    {
      "cell_type": "markdown",
      "metadata": {
        "id": "RNSvZ6Nq9DJZ"
      },
      "source": [
        "#**Método de Composición**"
      ]
    },
    {
      "cell_type": "markdown",
      "metadata": {
        "id": "oF_SlQAl9DBM"
      },
      "source": [
        "$f(x)=e^{-|2x|}$,   $x \\in R$"
      ]
    },
    {
      "cell_type": "markdown",
      "metadata": {
        "id": "uU5DwiTzGhxB"
      },
      "source": [
        "De acuerdo con el metodo de composicion debemos divixir la distribución en subareas\n",
        "\n",
        "Entonce podemos rescribir nuestra función en una función a trozos\n",
        "\n",
        "$f(x) =  \\begin{cases}\n",
        "e^{2x} & \\text{si } x \\in (-\\infty,0)\\\\\n",
        "e^{-2x} & \\text{si } x \\in (0.\\infty)\n",
        "\\end{cases}$"
      ]
    },
    {
      "cell_type": "markdown",
      "source": [],
      "metadata": {
        "id": "9osVhJSlgHzg"
      }
    },
    {
      "cell_type": "markdown",
      "metadata": {
        "id": "gtKJnDpII6mn"
      },
      "source": [
        "y ahora sin podemos calcular el área de casa trozo\n",
        "\n",
        "y para ello integramos y les asiganamos un nombre\n",
        "\n",
        "$A_1 =\\int_{-\\infty}^0 2^{2x}dx=\\frac{1}{2}$\n",
        "\n",
        "$A_2 =  \\int_{0}^{\\infty}e^{-2x}dx=\\frac{1}{2}$\n",
        "\n",
        "Entonces podeos rescribir la función como\n",
        "\n",
        "$f(x)=A_1f(x)+A_2f(x)=1$\n",
        "\n",
        "Quedando de la siguiente forma:\n",
        "\n",
        "$f(x)=\\frac{1}{2}\\cdot e^{2x}+ \\frac{1}{2}\\cdot e^{-2x}$"
      ]
    },
    {
      "cell_type": "markdown",
      "metadata": {
        "id": "FVzuHkt0No77"
      },
      "source": [
        "$f_1(x)=e^{2x}$\n",
        "\n",
        "integramos de 0 a x\n",
        "\n",
        "$F_1(x) =\\int_{0}^{x}e^{2s}ds=\\frac{1}{2}e^{2x}-\\frac{1}{2}$\n",
        "\n",
        "$f_2(x)=e^{-2x}$ e integramos igualmente de 0 a x\n",
        "\n",
        "$F_2(x)=\\int_{0}^{x}e^{-2s}ds=-\\frac{1}{2}e^{-2x}+\\frac{1}{2}$"
      ]
    },
    {
      "cell_type": "markdown",
      "metadata": {
        "id": "OovunDpMPII4"
      },
      "source": [
        "Ahora calculamos su inversa\n",
        "\n",
        "$F_1=u_1$\n",
        "\n",
        "y tenemos lo siguiente $u_1 = \\frac{1}{2}e^{2x}-\\frac{1}{2}$\n",
        "\n",
        "$e^{2x}=2u->ln(e^{2x})=ln(2u)->x= \\frac{ln(2u)}{2}$\n",
        "\n",
        "y el siguiente\n",
        "$F_2 = u_2$\n",
        "\n",
        "$u_2=-\\frac{1}{2}e^{-2x}+\\frac{1}{2}$\n",
        "\n",
        "$u-\\frac{1}{2}=\\frac{-e^{-2x}}{2}->-2u+1=e^{2x}->ln(-2u+1)=ln(e^{-2x})->ln(-2u+1)=-2x$\n",
        "\n",
        "$-\\frac{ln(-2u+1)}{2}=x$"
      ]
    },
    {
      "cell_type": "markdown",
      "metadata": {
        "id": "zTU_wPs2Smah"
      },
      "source": [
        "y finalmente tenemos\n",
        "\n",
        "$F^{-1}(u)= \\begin{cases}\n",
        "\\frac{ln(2u)}{2} & \\text{si } 0 \\leq x < \\frac{1}{2}\\\\\n",
        "-\\frac{ln(-2u+1)}{2} & \\text{si } \\frac{1}{2} \\leq x \\leq 1\n",
        "\\end {cases}$"
      ]
    },
    {
      "cell_type": "code",
      "execution_count": 79,
      "metadata": {
        "id": "TelUR4Tm8w0d"
      },
      "outputs": [],
      "source": [
        "import numpy as np\n",
        "import random as rnd\n",
        "import matplotlib.pyplot as plt"
      ]
    },
    {
      "cell_type": "code",
      "execution_count": 80,
      "metadata": {
        "colab": {
          "base_uri": "https://localhost:8080/",
          "height": 462
        },
        "id": "jRvhhozgApzd",
        "outputId": "f08a1ea5-75fd-4032-a09e-3a0764860de1"
      },
      "outputs": [
        {
          "output_type": "execute_result",
          "data": {
            "text/plain": [
              "[<matplotlib.lines.Line2D at 0x7cce0bee2d70>]"
            ]
          },
          "metadata": {},
          "execution_count": 80
        },
        {
          "output_type": "display_data",
          "data": {
            "text/plain": [
              "<Figure size 600x500 with 1 Axes>"
            ],
            "image/png": "[encoded data removed]"
          },
          "metadata": {}
        }
      ],
      "source": [
        "x1 = np.linspace(-1,1,100)\n",
        "y1 = np.exp(-np.abs(2*x1))\n",
        "plt.figure(figsize=(6,5))\n",
        "\n",
        "plt.plot(x1,y1)"
      ]
    },
    {
      "cell_type": "code",
      "execution_count": 81,
      "metadata": {
        "id": "EtsulkGvUDgY"
      },
      "outputs": [],
      "source": [
        "def inversa(n):\n",
        "  lista = []\n",
        "  for i in range(n):\n",
        "    u1 = rnd.random()\n",
        "    u2 = rnd.random()\n",
        "    if 0<u1<1/2:\n",
        "      x=(np.log(2*u2))/2\n",
        "      lista.append(x)\n",
        "    else:\n",
        "      x=-np.log((2*u1)-1)/2\n",
        "      lista.append(x)\n",
        "  return lista\n"
      ]
    },
    {
      "cell_type": "code",
      "execution_count": 82,
      "metadata": {
        "id": "d5ac_O1cVIH-"
      },
      "outputs": [],
      "source": [
        "G = inversa(10000)"
      ]
    },
    {
      "cell_type": "code",
      "execution_count": 83,
      "metadata": {
        "colab": {
          "base_uri": "https://localhost:8080/",
          "height": 430
        },
        "id": "5A-YXSWvVKdB",
        "outputId": "1bf24583-f0ae-49f2-eab7-bdff70951bf4"
      },
      "outputs": [
        {
          "output_type": "display_data",
          "data": {
            "text/plain": [
              "<Figure size 640x480 with 1 Axes>"
            ],
            "image/png": "[encoded data removed]"
          },
          "metadata": {}
        }
      ],
      "source": [
        "plt.hist(G, bins=500)\n",
        "plt.show()"
      ]
    },
    {
      "cell_type": "code",
      "execution_count": 84,
      "metadata": {
        "id": "ppPM3I55VO57"
      },
      "outputs": [],
      "source": [
        "def cdf(G): #Función de distribución acumulada\n",
        " n=len(G)\n",
        " X=np.sort(G)\n",
        " Y=np.arange(0,n)/n\n",
        "\n",
        " return X,Y"
      ]
    },
    {
      "cell_type": "code",
      "execution_count": 85,
      "metadata": {
        "id": "9jrIDBpKVVyb"
      },
      "outputs": [],
      "source": [
        "X, Y=cdf(G)"
      ]
    },
    {
      "cell_type": "code",
      "execution_count": 86,
      "metadata": {
        "colab": {
          "base_uri": "https://localhost:8080/",
          "height": 430
        },
        "id": "xNwcLIDGVXiI",
        "outputId": "562c31ba-4642-4161-ccc4-ddc43cb276e0"
      },
      "outputs": [
        {
          "output_type": "display_data",
          "data": {
            "text/plain": [
              "<Figure size 640x480 with 1 Axes>"
            ],
            "image/png": "[encoded data removed]"
          },
          "metadata": {}
        }
      ],
      "source": [
        "plt.step(X,Y) #Gráfica de la distribución acumulada\n",
        "\n",
        "plt.show()"
      ]
    }
  ],
  "metadata": {
    "colab": {
      "provenance": [],
      "authorship_tag": "ABX9TyNEMxQSdos6x4QURUf6vf3s",
      "include_colab_link": true
    },
    "kernelspec": {
      "display_name": "Python 3",
      "name": "python3"
    },
    "language_info": {
      "name": "python"
    }
  },
  "nbformat": 4,
  "nbformat_minor": 0
}