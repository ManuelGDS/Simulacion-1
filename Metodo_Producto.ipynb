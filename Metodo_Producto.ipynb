{
  "nbformat": 4,
  "nbformat_minor": 0,
  "metadata": {
    "colab": {
      "provenance": [],
      "authorship_tag": "ABX9TyPHvfegNNj+2JpQ+0LTVnhR",
      "include_colab_link": true
    },
    "kernelspec": {
      "name": "python3",
      "display_name": "Python 3"
    },
    "language_info": {
      "name": "python"
    }
  },
  "cells": [
    {
      "cell_type": "markdown",
      "metadata": {
        "id": "view-in-github",
        "colab_type": "text"
      },
      "source": [
        "<a href=\"https://colab.research.google.com/github/ManuelGDS/Simulacion-1/blob/main/Metodo_Producto.ipynb\" target=\"_parent\"><img src=\"https://colab.research.google.com/assets/colab-badge.svg\" alt=\"Open In Colab\"/></a>"
      ]
    },
    {
      "cell_type": "markdown",
      "source": [
        "Metodo del Producto: este coidgo ees para la generacion de numeros pseudo aleatorios, funciona definiendo dos semillas iniciales"
      ],
      "metadata": {
        "id": "3gCpF01WJyk3"
      }
    },
    {
      "cell_type": "code",
      "execution_count": 10,
      "metadata": {
        "colab": {
          "base_uri": "https://localhost:8080/"
        },
        "id": "MtGGH9ERlvud",
        "outputId": "926faa23-5491-4fe5-bd0e-ef0f16d9c5f6"
      },
      "outputs": [
        {
          "output_type": "stream",
          "name": "stdout",
          "text": [
            "Ingrese un numero de 3 cifras: 123\n",
            "Ingrese un numero de 3 cifras: 456\n",
            "ingrese la cantidad de iteraciones: 20\n",
            "  N    Xn-1    Xn    (Xn)(Xn-1)    Cadena\n",
            "---  ------  ----  ------------  --------\n",
            "  0     123   456         56088     56088\n",
            "  1     456   608        277248    277248\n",
            "  2     608   772        469376    469376\n",
            "  3     772   693        534996    534996\n",
            "  4     693   349        241857    241857\n",
            "  5     349   418        145882    145882\n",
            "  6     418   458        191444    191444\n",
            "  7     458   914        418612    418612\n",
            "  8     914   186        170004    170004\n",
            "  9     186   700        130200    130200\n",
            " 10     700   302        211400    211400\n",
            " 11     302   114         34428     34428\n",
            " 12     114   442         50388     50388\n",
            " 13     442    38         16796     16796\n",
            " 14      38   679         25802     25802\n",
            " 15     679   580        393820    393820\n",
            " 16     580   938        544040    544040\n",
            " 17     938   440        412720    412720\n",
            " 18     440   127         55880     55880\n",
            " 19     127   588         74676     74676\n",
            " 20     588   467        274596    274596\n"
          ]
        }
      ],
      "source": [
        "from tabulate import tabulate\n",
        "x0 = input(\"Ingrese un numero de 3 cifras: \")\n",
        "y0 = input(\"Ingrese un numero de 3 cifras: \")\n",
        "n = input(\"ingrese la cantidad de iteraciones: \")\n",
        "matriz = []\n",
        "for i in range(0, int(n)+1):\n",
        "  producto = int(x0) * int(y0)\n",
        "\n",
        "  if ((len(str(producto))%2) == 0):\n",
        "\n",
        "    cadena = str(producto)\n",
        "    longitud = len(cadena) +1\n",
        "    cadena1 = cadena.zfill(longitud)\n",
        "    nuevox = cadena1[2:5]\n",
        "\n",
        "    #Estas lineas de codigo son para anexar la cadena completada con cero\n",
        "    #iteracion = [i, x0, y0, producto, cadena1]\n",
        "    #matriz.append(iteracion)\n",
        "\n",
        "  else:\n",
        "    cadena = str(producto)\n",
        "    nuevox = cadena[1:4]\n",
        "\n",
        "  iteracion = [i, x0, y0, producto, cadena]\n",
        "  matriz.append(iteracion)\n",
        "  x0 = y0\n",
        "  y0 = int(nuevox)\n",
        "\n",
        "print(tabulate(matriz,headers = (\"N\",\"Xn-1\", \"Xn\", \"(Xn)(Xn-1)\")))\n",
        "\n"
      ]
    }
  ]
}