{
  "nbformat": 4,
  "nbformat_minor": 0,
  "metadata": {
    "colab": {
      "provenance": [],
      "authorship_tag": "ABX9TyPpRMuvbSO8y6SqXDM//IXE",
      "include_colab_link": true
    },
    "kernelspec": {
      "name": "python3",
      "display_name": "Python 3"
    },
    "language_info": {
      "name": "python"
    }
  },
  "cells": [
    {
      "cell_type": "markdown",
      "metadata": {
        "id": "view-in-github",
        "colab_type": "text"
      },
      "source": [
        "<a href=\"https://colab.research.google.com/github/ManuelGDS/Simulacion-1/blob/main/Metodo_Producto.ipynb\" target=\"_parent\"><img src=\"https://colab.research.google.com/assets/colab-badge.svg\" alt=\"Open In Colab\"/></a>"
      ]
    },
    {
      "cell_type": "markdown",
      "source": [
        "Algoritmo para la generacion de números pseudo aleatorios por el **\"Metodo del Producto Medio\"** que está dado de la siguiente forma $x_{n+1}=x_{n}*x_{n-1}$.\n",
        "\n",
        "Donde: $x_n$ y $x_{n-1}$ son semillas inciales y cada uno de p digitos.\n"
      ],
      "metadata": {
        "id": "3gCpF01WJyk3"
      }
    },
    {
      "cell_type": "code",
      "execution_count": 1,
      "metadata": {
        "colab": {
          "base_uri": "https://localhost:8080/"
        },
        "id": "MtGGH9ERlvud",
        "outputId": "c6e5ed85-2986-4c80-a40b-0349fafdada7"
      },
      "outputs": [
        {
          "output_type": "stream",
          "name": "stdout",
          "text": [
            "Ingrese un numero de 3 cifras: 456\n",
            "Ingrese un numero de 3 cifras: 789\n",
            "ingrese la cantidad de iteraciones: 15\n",
            "╒═════╤════════╤══════╤══════════════╕\n",
            "│   N │   Xn-1 │   Xn │   (Xn)(Xn-1) │\n",
            "╞═════╪════════╪══════╪══════════════╡\n",
            "│   0 │    456 │  789 │       359784 │\n",
            "├─────┼────────┼──────┼──────────────┤\n",
            "│   1 │    789 │  597 │       471033 │\n",
            "├─────┼────────┼──────┼──────────────┤\n",
            "│   2 │    597 │  710 │       423870 │\n",
            "├─────┼────────┼──────┼──────────────┤\n",
            "│   3 │    710 │  238 │       168980 │\n",
            "├─────┼────────┼──────┼──────────────┤\n",
            "│   4 │    238 │  689 │       163982 │\n",
            "├─────┼────────┼──────┼──────────────┤\n",
            "│   5 │    689 │  639 │       440271 │\n",
            "├─────┼────────┼──────┼──────────────┤\n",
            "│   6 │    639 │  402 │       256878 │\n",
            "├─────┼────────┼──────┼──────────────┤\n",
            "│   7 │    402 │  568 │       228336 │\n",
            "├─────┼────────┼──────┼──────────────┤\n",
            "│   8 │    568 │  283 │       160744 │\n",
            "├─────┼────────┼──────┼──────────────┤\n",
            "│   9 │    283 │  607 │       171781 │\n",
            "├─────┼────────┼──────┼──────────────┤\n",
            "│  10 │    607 │  717 │       435219 │\n",
            "├─────┼────────┼──────┼──────────────┤\n",
            "│  11 │    717 │  352 │       252384 │\n",
            "├─────┼────────┼──────┼──────────────┤\n",
            "│  12 │    352 │  523 │       184096 │\n",
            "├─────┼────────┼──────┼──────────────┤\n",
            "│  13 │    523 │  840 │       439320 │\n",
            "├─────┼────────┼──────┼──────────────┤\n",
            "│  14 │    840 │  393 │       330120 │\n",
            "├─────┼────────┼──────┼──────────────┤\n",
            "│  15 │    393 │  301 │       118293 │\n",
            "╘═════╧════════╧══════╧══════════════╛\n"
          ]
        }
      ],
      "source": [
        "from tabulate import tabulate\n",
        "x0 = input(\"Ingrese un numero de 3 cifras: \")\n",
        "y0 = input(\"Ingrese un numero de 3 cifras: \")\n",
        "n = input(\"ingrese la cantidad de iteraciones: \")\n",
        "matriz = []\n",
        "for i in range(0, int(n)+1):\n",
        "  producto = int(x0) * int(y0)\n",
        "\n",
        "  if ((len(str(producto))%2) == 0):\n",
        "\n",
        "    cadena = str(producto)\n",
        "    longitud = len(cadena) +1\n",
        "    cadena1 = cadena.zfill(longitud)# Esta funcion zfill regresa una cadena de longitud n completada con 0 al inicio\n",
        "    nuevox = cadena1[2:5]\n",
        "\n",
        "    #Estas lineas de codigo son para anexar la cadena completada con cero\n",
        "    #iteracion = [i, x0, y0, producto, cadena1]\n",
        "    #matriz.append(iteracion)\n",
        "\n",
        "  else:\n",
        "    cadena = str(producto)\n",
        "    nuevox = cadena[1:4]\n",
        "\n",
        "  iteracion = [i, x0, y0, producto]\n",
        "  matriz.append(iteracion)\n",
        "  x0 = y0\n",
        "  y0 = int(nuevox)\n",
        "\n",
        "print(tabulate(matriz,headers = (\"N\",\"Xn-1\", \"Xn\", \"(Xn)(Xn-1)\"),tablefmt='fancy_grid'))\n",
        "\n"
      ]
    }
  ]
}