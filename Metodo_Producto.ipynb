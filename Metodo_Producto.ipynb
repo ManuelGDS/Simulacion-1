{
  "nbformat": 4,
  "nbformat_minor": 0,
  "metadata": {
    "colab": {
      "provenance": [],
      "authorship_tag": "ABX9TyObTU06B0xRId6h9pACFpq6",
      "include_colab_link": true
    },
    "kernelspec": {
      "name": "python3",
      "display_name": "Python 3"
    },
    "language_info": {
      "name": "python"
    }
  },
  "cells": [
    {
      "cell_type": "markdown",
      "metadata": {
        "id": "view-in-github",
        "colab_type": "text"
      },
      "source": [
        "<a href=\"https://colab.research.google.com/github/ManuelGDS/Simulacion-1/blob/main/Metodo_Producto.ipynb\" target=\"_parent\"><img src=\"https://colab.research.google.com/assets/colab-badge.svg\" alt=\"Open In Colab\"/></a>"
      ]
    },
    {
      "cell_type": "markdown",
      "source": [
        "Metodo del Producto: este coidgo ees para la generacion de numeros pseudo aleatorios, funciona definiendo dos semillas iniciales"
      ],
      "metadata": {
        "id": "3gCpF01WJyk3"
      }
    },
    {
      "cell_type": "code",
      "execution_count": 13,
      "metadata": {
        "colab": {
          "base_uri": "https://localhost:8080/"
        },
        "id": "MtGGH9ERlvud",
        "outputId": "d90c560b-1567-4609-ef62-7aec0d36bed2"
      },
      "outputs": [
        {
          "output_type": "stream",
          "name": "stdout",
          "text": [
            "Ingrese un numero de 3 cifras: 456\n",
            "Ingrese un numero de 3 cifras: 789\n",
            "ingrese la cantidad de iteraciones: 20\n",
            "  N    Xn-1    Xn    (Xn)(Xn-1)\n",
            "---  ------  ----  ------------\n",
            "  0     456   789        359784\n",
            "  1     789   597        471033\n",
            "  2     597   710        423870\n",
            "  3     710   238        168980\n",
            "  4     238   689        163982\n",
            "  5     689   639        440271\n",
            "  6     639   402        256878\n",
            "  7     402   568        228336\n",
            "  8     568   283        160744\n",
            "  9     283   607        171781\n",
            " 10     607   717        435219\n",
            " 11     717   352        252384\n",
            " 12     352   523        184096\n",
            " 13     523   840        439320\n",
            " 14     840   393        330120\n",
            " 15     393   301        118293\n",
            " 16     301   182         54782\n",
            " 17     182   478         86996\n",
            " 18     478   699        334122\n",
            " 19     699   341        238359\n",
            " 20     341   383        130603\n"
          ]
        }
      ],
      "source": [
        "from tabulate import tabulate\n",
        "x0 = input(\"Ingrese un numero de 3 cifras: \")\n",
        "y0 = input(\"Ingrese un numero de 3 cifras: \")\n",
        "n = input(\"ingrese la cantidad de iteraciones: \")\n",
        "matriz = []\n",
        "for i in range(0, int(n)+1):\n",
        "  producto = int(x0) * int(y0)\n",
        "\n",
        "  if ((len(str(producto))%2) == 0):\n",
        "\n",
        "    cadena = str(producto)\n",
        "    longitud = len(cadena) +1\n",
        "    cadena1 = cadena.zfill(longitud)\n",
        "    nuevox = cadena1[2:5]\n",
        "\n",
        "    #Estas lineas de codigo son para anexar la cadena completada con cero\n",
        "    #iteracion = [i, x0, y0, producto, cadena1]\n",
        "    #matriz.append(iteracion)\n",
        "\n",
        "  else:\n",
        "    cadena = str(producto)\n",
        "    nuevox = cadena[1:4]\n",
        "\n",
        "  iteracion = [i, x0, y0, producto]\n",
        "  matriz.append(iteracion)\n",
        "  x0 = y0\n",
        "  y0 = int(nuevox)\n",
        "\n",
        "print(tabulate(matriz,headers = (\"N\",\"Xn-1\", \"Xn\", \"(Xn)(Xn-1)\")))\n",
        "\n"
      ]
    }
  ]
}