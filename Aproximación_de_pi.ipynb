{
  "nbformat": 4,
  "nbformat_minor": 0,
  "metadata": {
    "colab": {
      "provenance": [],
      "toc_visible": true,
      "authorship_tag": "ABX9TyO9FRLQTdupPI8hb3idu0x2",
      "include_colab_link": true
    },
    "kernelspec": {
      "name": "python3",
      "display_name": "Python 3"
    },
    "language_info": {
      "name": "python"
    }
  },
  "cells": [
    {
      "cell_type": "markdown",
      "metadata": {
        "id": "view-in-github",
        "colab_type": "text"
      },
      "source": [
        "<a href=\"https://colab.research.google.com/github/ManuelGDS/Simulacion-1/blob/main/Aproximaci%C3%B3n_de_pi.ipynb\" target=\"_parent\"><img src=\"https://colab.research.google.com/assets/colab-badge.svg\" alt=\"Open In Colab\"/></a>"
      ]
    },
    {
      "cell_type": "markdown",
      "source": [
        "# **González de Santiago José Manuel**#"
      ],
      "metadata": {
        "id": "Oy1rEI4_6ngb"
      }
    },
    {
      "cell_type": "markdown",
      "source": [
        "# **Aproximación de $\\pi$: Por simulación**#"
      ],
      "metadata": {
        "id": "W1HsAFAE6o-7"
      }
    },
    {
      "cell_type": "code",
      "execution_count": null,
      "metadata": {
        "id": "ATgf0DCUmhKU"
      },
      "outputs": [],
      "source": [
        "import random as rnd\n",
        "import numpy as np\n",
        "import matplotlib.pyplot as plt"
      ]
    },
    {
      "cell_type": "code",
      "source": [
        "#Muestra del experimento\n",
        "\n",
        "x = np.linspace(0,1,100)\n",
        "plt.plot(x,np.sqrt(1-x**2))\n",
        "for i in range(100):\n",
        "  u1=rnd.random()\n",
        "  u2 = rnd.random()\n",
        "  if u2 <=np.sqrt(1-u1**2):\n",
        "    plt.scatter(u1,u2,color=\"green\")\n",
        "  else:\n",
        "    plt.scatter(u1,u2,color=\"red\")\n",
        "plt.show()"
      ],
      "metadata": {
        "colab": {
          "base_uri": "https://localhost:8080/",
          "height": 430
        },
        "id": "sqW2q3AEts83",
        "outputId": "382f544c-9be1-4470-8d47-80f168fc3192"
      },
      "execution_count": null,
      "outputs": [
        {
          "output_type": "display_data",
          "data": {
            "text/plain": [
              "<Figure size 640x480 with 1 Axes>"
            ],
            "image/png": "[encoded data removed]"
          },
          "metadata": {}
        }
      ]
    },
    {
      "cell_type": "code",
      "source": [
        "\n",
        "#Esta función la utilice para el histograma\n",
        "def estimacion(n):\n",
        "  contador = 0\n",
        "  lista = []\n",
        "  for i in range(1,n):\n",
        "    u_1 =  rnd.random()\n",
        "    u_2 =  rnd.random()\n",
        "    operacion = np.sqrt(1-u_1**2)\n",
        "    if u_2 <= operacion :\n",
        "      contador += 1\n",
        "    x = (4*(contador/i))\n",
        "    lista.append(x)\n",
        "  return lista[-1]"
      ],
      "metadata": {
        "id": "Et_bINaPp7nk"
      },
      "execution_count": null,
      "outputs": []
    },
    {
      "cell_type": "code",
      "source": [
        "def simulacion(M):\n",
        "  r = []\n",
        "  for i in range(M):\n",
        "    R =estimacion(500)\n",
        "    r.append(R)\n",
        "  return r"
      ],
      "metadata": {
        "id": "HiNooX-SowWE"
      },
      "execution_count": null,
      "outputs": []
    },
    {
      "cell_type": "code",
      "source": [
        "S = simulacion(1000)\n",
        "plt.hist(S, bins=500)"
      ],
      "metadata": {
        "colab": {
          "base_uri": "https://localhost:8080/",
          "height": 1000
        },
        "id": "Ubk1D1HVpUU-",
        "outputId": "a7c67abf-ac5c-48b9-f57b-e7288df12bba"
      },
      "execution_count": null,
      "outputs": [
        {
          "output_type": "execute_result",
          "data": {
            "text/plain": [
              "(array([ 2.,  0.,  0.,  0.,  0.,  0.,  0.,  0.,  0.,  0.,  0.,  0.,  0.,\n",
              "         0.,  0.,  0.,  0.,  0.,  0.,  0.,  0.,  0.,  0.,  0.,  0.,  0.,\n",
              "         0.,  0.,  0.,  0.,  0.,  0.,  0.,  0.,  0.,  0.,  0.,  0.,  0.,\n",
              "         0.,  0.,  0.,  0.,  0.,  1.,  0.,  0.,  0.,  0.,  0.,  0.,  0.,\n",
              "         0.,  0.,  0.,  0.,  0.,  0.,  0.,  4.,  0.,  0.,  0.,  0.,  0.,\n",
              "         0.,  0.,  1.,  0.,  0.,  0.,  0.,  0.,  0.,  2.,  0.,  0.,  0.,\n",
              "         0.,  0.,  0.,  0.,  0.,  0.,  0.,  0.,  0.,  0.,  0.,  1.,  0.,\n",
              "         0.,  0.,  0.,  0.,  0.,  0.,  7.,  0.,  0.,  0.,  0.,  0.,  0.,\n",
              "         8.,  0.,  0.,  0.,  0.,  0.,  0.,  2.,  0.,  0.,  0.,  0.,  0.,\n",
              "         0.,  0., 10.,  0.,  0.,  0.,  0.,  0.,  0., 14.,  0.,  0.,  0.,\n",
              "         0.,  0.,  0.,  0.,  7.,  0.,  0.,  0.,  0.,  0.,  0., 15.,  0.,\n",
              "         0.,  0.,  0.,  0.,  0.,  0., 17.,  0.,  0.,  0.,  0.,  0.,  0.,\n",
              "        34.,  0.,  0.,  0.,  0.,  0.,  0.,  0., 24.,  0.,  0.,  0.,  0.,\n",
              "         0.,  0., 15.,  0.,  0.,  0.,  0.,  0.,  0.,  0., 38.,  0.,  0.,\n",
              "         0.,  0.,  0.,  0., 27.,  0.,  0.,  0.,  0.,  0.,  0.,  0., 30.,\n",
              "         0.,  0.,  0.,  0.,  0.,  0., 33.,  0.,  0.,  0.,  0.,  0.,  0.,\n",
              "        38.,  0.,  0.,  0.,  0.,  0.,  0.,  0., 38.,  0.,  0.,  0.,  0.,\n",
              "         0.,  0., 44.,  0.,  0.,  0.,  0.,  0.,  0.,  0., 39.,  0.,  0.,\n",
              "         0.,  0.,  0.,  0., 48.,  0.,  0.,  0.,  0.,  0.,  0.,  0., 43.,\n",
              "         0.,  0.,  0.,  0.,  0.,  0., 32.,  0.,  0.,  0.,  0.,  0.,  0.,\n",
              "         0., 57.,  0.,  0.,  0.,  0.,  0.,  0., 44.,  0.,  0.,  0.,  0.,\n",
              "         0.,  0.,  0., 43.,  0.,  0.,  0.,  0.,  0.,  0., 41.,  0.,  0.,\n",
              "         0.,  0.,  0.,  0.,  0., 41.,  0.,  0.,  0.,  0.,  0.,  0., 26.,\n",
              "         0.,  0.,  0.,  0.,  0.,  0., 33.,  0.,  0.,  0.,  0.,  0.,  0.,\n",
              "         0., 21.,  0.,  0.,  0.,  0.,  0.,  0., 25.,  0.,  0.,  0.,  0.,\n",
              "         0.,  0.,  0., 13.,  0.,  0.,  0.,  0.,  0.,  0., 20.,  0.,  0.,\n",
              "         0.,  0.,  0.,  0.,  0., 11.,  0.,  0.,  0.,  0.,  0.,  0., 12.,\n",
              "         0.,  0.,  0.,  0.,  0.,  0.,  0.,  8.,  0.,  0.,  0.,  0.,  0.,\n",
              "         0.,  6.,  0.,  0.,  0.,  0.,  0.,  0.,  0.,  2.,  0.,  0.,  0.,\n",
              "         0.,  0.,  0.,  8.,  0.,  0.,  0.,  0.,  0.,  0.,  0.,  6.,  0.,\n",
              "         0.,  0.,  0.,  0.,  0.,  1.,  0.,  0.,  0.,  0.,  0.,  0.,  1.,\n",
              "         0.,  0.,  0.,  0.,  0.,  0.,  0.,  0.,  0.,  0.,  0.,  0.,  0.,\n",
              "         0.,  2.,  0.,  0.,  0.,  0.,  0.,  0.,  0.,  0.,  0.,  0.,  0.,\n",
              "         0.,  0.,  0.,  1.,  0.,  0.,  0.,  0.,  0.,  0.,  0.,  1.,  0.,\n",
              "         0.,  0.,  0.,  0.,  0.,  0.,  0.,  0.,  0.,  0.,  0.,  0.,  0.,\n",
              "         0.,  0.,  0.,  0.,  0.,  0.,  0.,  1.,  0.,  0.,  0.,  0.,  0.,\n",
              "         0.,  0.,  0.,  0.,  0.,  0.,  0.,  0.,  0.,  1.,  0.,  0.,  0.,\n",
              "         0.,  0.,  0.,  0.,  0.,  0.,  0.,  0.,  0.,  0.,  0.,  0.,  0.,\n",
              "         0.,  0.,  0.,  0.,  0.,  1.]),\n",
              " array([2.88577154, 2.88684569, 2.88791984, 2.88899399, 2.89006814,\n",
              "        2.89114228, 2.89221643, 2.89329058, 2.89436473, 2.89543888,\n",
              "        2.89651303, 2.89758717, 2.89866132, 2.89973547, 2.90080962,\n",
              "        2.90188377, 2.90295792, 2.90403206, 2.90510621, 2.90618036,\n",
              "        2.90725451, 2.90832866, 2.90940281, 2.91047695, 2.9115511 ,\n",
              "        2.91262525, 2.9136994 , 2.91477355, 2.9158477 , 2.91692184,\n",
              "        2.91799599, 2.91907014, 2.92014429, 2.92121844, 2.92229259,\n",
              "        2.92336673, 2.92444088, 2.92551503, 2.92658918, 2.92766333,\n",
              "        2.92873747, 2.92981162, 2.93088577, 2.93195992, 2.93303407,\n",
              "        2.93410822, 2.93518236, 2.93625651, 2.93733066, 2.93840481,\n",
              "        2.93947896, 2.94055311, 2.94162725, 2.9427014 , 2.94377555,\n",
              "        2.9448497 , 2.94592385, 2.946998  , 2.94807214, 2.94914629,\n",
              "        2.95022044, 2.95129459, 2.95236874, 2.95344289, 2.95451703,\n",
              "        2.95559118, 2.95666533, 2.95773948, 2.95881363, 2.95988778,\n",
              "        2.96096192, 2.96203607, 2.96311022, 2.96418437, 2.96525852,\n",
              "        2.96633267, 2.96740681, 2.96848096, 2.96955511, 2.97062926,\n",
              "        2.97170341, 2.97277756, 2.9738517 , 2.97492585, 2.976     ,\n",
              "        2.97707415, 2.9781483 , 2.97922244, 2.98029659, 2.98137074,\n",
              "        2.98244489, 2.98351904, 2.98459319, 2.98566733, 2.98674148,\n",
              "        2.98781563, 2.98888978, 2.98996393, 2.99103808, 2.99211222,\n",
              "        2.99318637, 2.99426052, 2.99533467, 2.99640882, 2.99748297,\n",
              "        2.99855711, 2.99963126, 3.00070541, 3.00177956, 3.00285371,\n",
              "        3.00392786, 3.005002  , 3.00607615, 3.0071503 , 3.00822445,\n",
              "        3.0092986 , 3.01037275, 3.01144689, 3.01252104, 3.01359519,\n",
              "        3.01466934, 3.01574349, 3.01681764, 3.01789178, 3.01896593,\n",
              "        3.02004008, 3.02111423, 3.02218838, 3.02326253, 3.02433667,\n",
              "        3.02541082, 3.02648497, 3.02755912, 3.02863327, 3.02970741,\n",
              "        3.03078156, 3.03185571, 3.03292986, 3.03400401, 3.03507816,\n",
              "        3.0361523 , 3.03722645, 3.0383006 , 3.03937475, 3.0404489 ,\n",
              "        3.04152305, 3.04259719, 3.04367134, 3.04474549, 3.04581964,\n",
              "        3.04689379, 3.04796794, 3.04904208, 3.05011623, 3.05119038,\n",
              "        3.05226453, 3.05333868, 3.05441283, 3.05548697, 3.05656112,\n",
              "        3.05763527, 3.05870942, 3.05978357, 3.06085772, 3.06193186,\n",
              "        3.06300601, 3.06408016, 3.06515431, 3.06622846, 3.06730261,\n",
              "        3.06837675, 3.0694509 , 3.07052505, 3.0715992 , 3.07267335,\n",
              "        3.07374749, 3.07482164, 3.07589579, 3.07696994, 3.07804409,\n",
              "        3.07911824, 3.08019238, 3.08126653, 3.08234068, 3.08341483,\n",
              "        3.08448898, 3.08556313, 3.08663727, 3.08771142, 3.08878557,\n",
              "        3.08985972, 3.09093387, 3.09200802, 3.09308216, 3.09415631,\n",
              "        3.09523046, 3.09630461, 3.09737876, 3.09845291, 3.09952705,\n",
              "        3.1006012 , 3.10167535, 3.1027495 , 3.10382365, 3.1048978 ,\n",
              "        3.10597194, 3.10704609, 3.10812024, 3.10919439, 3.11026854,\n",
              "        3.11134269, 3.11241683, 3.11349098, 3.11456513, 3.11563928,\n",
              "        3.11671343, 3.11778758, 3.11886172, 3.11993587, 3.12101002,\n",
              "        3.12208417, 3.12315832, 3.12423246, 3.12530661, 3.12638076,\n",
              "        3.12745491, 3.12852906, 3.12960321, 3.13067735, 3.1317515 ,\n",
              "        3.13282565, 3.1338998 , 3.13497395, 3.1360481 , 3.13712224,\n",
              "        3.13819639, 3.13927054, 3.14034469, 3.14141884, 3.14249299,\n",
              "        3.14356713, 3.14464128, 3.14571543, 3.14678958, 3.14786373,\n",
              "        3.14893788, 3.15001202, 3.15108617, 3.15216032, 3.15323447,\n",
              "        3.15430862, 3.15538277, 3.15645691, 3.15753106, 3.15860521,\n",
              "        3.15967936, 3.16075351, 3.16182766, 3.1629018 , 3.16397595,\n",
              "        3.1650501 , 3.16612425, 3.1671984 , 3.16827255, 3.16934669,\n",
              "        3.17042084, 3.17149499, 3.17256914, 3.17364329, 3.17471743,\n",
              "        3.17579158, 3.17686573, 3.17793988, 3.17901403, 3.18008818,\n",
              "        3.18116232, 3.18223647, 3.18331062, 3.18438477, 3.18545892,\n",
              "        3.18653307, 3.18760721, 3.18868136, 3.18975551, 3.19082966,\n",
              "        3.19190381, 3.19297796, 3.1940521 , 3.19512625, 3.1962004 ,\n",
              "        3.19727455, 3.1983487 , 3.19942285, 3.20049699, 3.20157114,\n",
              "        3.20264529, 3.20371944, 3.20479359, 3.20586774, 3.20694188,\n",
              "        3.20801603, 3.20909018, 3.21016433, 3.21123848, 3.21231263,\n",
              "        3.21338677, 3.21446092, 3.21553507, 3.21660922, 3.21768337,\n",
              "        3.21875752, 3.21983166, 3.22090581, 3.22197996, 3.22305411,\n",
              "        3.22412826, 3.2252024 , 3.22627655, 3.2273507 , 3.22842485,\n",
              "        3.229499  , 3.23057315, 3.23164729, 3.23272144, 3.23379559,\n",
              "        3.23486974, 3.23594389, 3.23701804, 3.23809218, 3.23916633,\n",
              "        3.24024048, 3.24131463, 3.24238878, 3.24346293, 3.24453707,\n",
              "        3.24561122, 3.24668537, 3.24775952, 3.24883367, 3.24990782,\n",
              "        3.25098196, 3.25205611, 3.25313026, 3.25420441, 3.25527856,\n",
              "        3.25635271, 3.25742685, 3.258501  , 3.25957515, 3.2606493 ,\n",
              "        3.26172345, 3.2627976 , 3.26387174, 3.26494589, 3.26602004,\n",
              "        3.26709419, 3.26816834, 3.26924248, 3.27031663, 3.27139078,\n",
              "        3.27246493, 3.27353908, 3.27461323, 3.27568737, 3.27676152,\n",
              "        3.27783567, 3.27890982, 3.27998397, 3.28105812, 3.28213226,\n",
              "        3.28320641, 3.28428056, 3.28535471, 3.28642886, 3.28750301,\n",
              "        3.28857715, 3.2896513 , 3.29072545, 3.2917996 , 3.29287375,\n",
              "        3.2939479 , 3.29502204, 3.29609619, 3.29717034, 3.29824449,\n",
              "        3.29931864, 3.30039279, 3.30146693, 3.30254108, 3.30361523,\n",
              "        3.30468938, 3.30576353, 3.30683768, 3.30791182, 3.30898597,\n",
              "        3.31006012, 3.31113427, 3.31220842, 3.31328257, 3.31435671,\n",
              "        3.31543086, 3.31650501, 3.31757916, 3.31865331, 3.31972745,\n",
              "        3.3208016 , 3.32187575, 3.3229499 , 3.32402405, 3.3250982 ,\n",
              "        3.32617234, 3.32724649, 3.32832064, 3.32939479, 3.33046894,\n",
              "        3.33154309, 3.33261723, 3.33369138, 3.33476553, 3.33583968,\n",
              "        3.33691383, 3.33798798, 3.33906212, 3.34013627, 3.34121042,\n",
              "        3.34228457, 3.34335872, 3.34443287, 3.34550701, 3.34658116,\n",
              "        3.34765531, 3.34872946, 3.34980361, 3.35087776, 3.3519519 ,\n",
              "        3.35302605, 3.3541002 , 3.35517435, 3.3562485 , 3.35732265,\n",
              "        3.35839679, 3.35947094, 3.36054509, 3.36161924, 3.36269339,\n",
              "        3.36376754, 3.36484168, 3.36591583, 3.36698998, 3.36806413,\n",
              "        3.36913828, 3.37021242, 3.37128657, 3.37236072, 3.37343487,\n",
              "        3.37450902, 3.37558317, 3.37665731, 3.37773146, 3.37880561,\n",
              "        3.37987976, 3.38095391, 3.38202806, 3.3831022 , 3.38417635,\n",
              "        3.3852505 , 3.38632465, 3.3873988 , 3.38847295, 3.38954709,\n",
              "        3.39062124, 3.39169539, 3.39276954, 3.39384369, 3.39491784,\n",
              "        3.39599198, 3.39706613, 3.39814028, 3.39921443, 3.40028858,\n",
              "        3.40136273, 3.40243687, 3.40351102, 3.40458517, 3.40565932,\n",
              "        3.40673347, 3.40780762, 3.40888176, 3.40995591, 3.41103006,\n",
              "        3.41210421, 3.41317836, 3.41425251, 3.41532665, 3.4164008 ,\n",
              "        3.41747495, 3.4185491 , 3.41962325, 3.42069739, 3.42177154,\n",
              "        3.42284569]),\n",
              " <BarContainer object of 500 artists>)"
            ]
          },
          "metadata": {},
          "execution_count": 69
        },
        {
          "output_type": "display_data",
          "data": {
            "text/plain": [
              "<Figure size 640x480 with 1 Axes>"
            ],
            "image/png": "[encoded data removed]"
          },
          "metadata": {}
        }
      ]
    },
    {
      "cell_type": "code",
      "source": [
        "def num_pi():\n",
        "  contador = 0\n",
        "  u1 = rnd.random()\n",
        "  u2 = rnd.random()\n",
        "  if u2 <= np.sqrt(1-u1**2):\n",
        "    contador += 1\n",
        "  return contador"
      ],
      "metadata": {
        "id": "6OQVf4YkBHxZ"
      },
      "execution_count": null,
      "outputs": []
    },
    {
      "cell_type": "code",
      "source": [
        "num_pi()"
      ],
      "metadata": {
        "colab": {
          "base_uri": "https://localhost:8080/"
        },
        "id": "_Uzjj9jBCBF-",
        "outputId": "f39e8c56-e155-4374-d6b5-ee95dcec54ac"
      },
      "execution_count": null,
      "outputs": [
        {
          "output_type": "execute_result",
          "data": {
            "text/plain": [
              "1"
            ]
          },
          "metadata": {},
          "execution_count": 3
        }
      ]
    },
    {
      "cell_type": "code",
      "source": [
        "def probabilidad(n):\n",
        "  prob = []\n",
        "  inter = 0\n",
        "  for i in range(n):\n",
        "    inter += num_pi()\n",
        "    prob.append(4*(inter/(i+1)))\n",
        "  return prob"
      ],
      "metadata": {
        "id": "LJROgV1KCNy8"
      },
      "execution_count": null,
      "outputs": []
    },
    {
      "cell_type": "code",
      "source": [
        "X = probabilidad(600)"
      ],
      "metadata": {
        "id": "2WlXMGO4D-fe"
      },
      "execution_count": null,
      "outputs": []
    },
    {
      "cell_type": "code",
      "execution_count": null,
      "metadata": {
        "id": "c5a5a3c2",
        "outputId": "33296083-f10d-4655-a924-8fffa4f90d87",
        "colab": {
          "base_uri": "https://localhost:8080/",
          "height": 256
        }
      },
      "outputs": [
        {
          "output_type": "execute_result",
          "data": {
            "text/plain": [
              "<matplotlib.lines.Line2D at 0x7d16e9217b20>"
            ]
          },
          "metadata": {},
          "execution_count": 55
        },
        {
          "output_type": "display_data",
          "data": {
            "text/plain": [
              "<Figure size 640x480 with 1 Axes>"
            ],
            "image/png": "[encoded data removed]"
          },
          "metadata": {}
        }
      ],
      "source": [
        "plt.plot(X)\n",
        "plt.axhline(y=np.mean(X), color='r', linestyle='-')\n",
        "plt.axhline(y=(np.mean(X))-(np.std(X)), color='g', linestyle='--')                       # La gráfica muestra que la convergencia está garantizada con 500 iteraciones\n",
        "plt.axhline(y=(np.mean(X))+(np.std(X)), color='g', linestyle='--')                                  # Sin embargo, diferentes ejecuciones darán resultados distintos"
      ]
    },
    {
      "cell_type": "code",
      "source": [
        "print(np.mean(X), np.std(X))"
      ],
      "metadata": {
        "colab": {
          "base_uri": "https://localhost:8080/"
        },
        "id": "Lf8PJgBNEPbv",
        "outputId": "64bc4f4d-65f8-4c67-9878-e900f21a4f63"
      },
      "execution_count": null,
      "outputs": [
        {
          "output_type": "stream",
          "name": "stdout",
          "text": [
            "3.1817153282974853 0.14238718035217818\n"
          ]
        }
      ]
    },
    {
      "cell_type": "markdown",
      "source": [
        "# **Aproximación de $\\pi$: Analíticamente**#"
      ],
      "metadata": {
        "id": "v4PmSExt68oE"
      }
    },
    {
      "cell_type": "markdown",
      "source": [
        "Consideremos la variable:\n",
        "\n",
        "$f(x) = \\begin{cases}\n",
        "1 & \\text{si el dado cae dentro de p } \\\\\n",
        "0 & \\text{si ace fuera de (1-p) }\n",
        "\\end{cases}$"
      ],
      "metadata": {
        "id": "jcYpt6k07VXb"
      }
    },
    {
      "cell_type": "markdown",
      "source": [
        "$E[X_i]=1-p + 0(1-p)=p$\n",
        "\n",
        "$V[X_i]=E[x_i^2]-E[x_i]^2$\n",
        "\n",
        "$=(1^2\\cdot p + 0^2(1-p))-p^2$\n",
        "\n",
        "$=p-p^2=p(1-p)$"
      ],
      "metadata": {
        "id": "3smGRNKzABzd"
      }
    },
    {
      "cell_type": "markdown",
      "source": [
        "Ahora consideramos\n",
        "\n",
        "$Z = 4 \\cdot\\frac{x_1+x_2+...+x_N}{N}$"
      ],
      "metadata": {
        "id": "jroIZ0JYAExz"
      }
    },
    {
      "cell_type": "markdown",
      "source": [
        "y Calculamos el valor esperado y la varianza\n",
        "\n",
        "$E[z]=\\frac{4}{N}(E[x_1]+...+E[x_N])$\n",
        "\n",
        "$E[z]=\\frac{4}{N}\\cdot Np=4p$\n",
        "\n",
        "$\\therefore E[z]=4p$"
      ],
      "metadata": {
        "id": "TWFVmvjC_TuT"
      }
    },
    {
      "cell_type": "markdown",
      "source": [
        "$V[z]=\\frac{16}{N^2}(V[X_1]+...+v[X_N])$\n",
        "\n",
        "$V[z]=\\frac{16}{N^2}\\cdot Np(1-p)$\n",
        "\n",
        "$V[z]=\\frac{16p(1-p)}{N}$"
      ],
      "metadata": {
        "id": "vD4eTS-hBLOr"
      }
    },
    {
      "cell_type": "markdown",
      "source": [
        "Ahora podemos usar la desigualdad de Chebyshev"
      ],
      "metadata": {
        "id": "cSvyqIJxCHpb"
      }
    },
    {
      "cell_type": "markdown",
      "source": [
        "$P(|Z_N-\\pi|\\geq \\epsilon)\\leq \\frac{V[z_n]}{\\epsilon^2}$\n",
        "\n",
        "$P(|Z_N-\\pi|\\geq \\epsilon)\\leq \\frac{16p(1-p)}{N\\epsilon^2}$\n",
        "\n",
        "**Nota:** Epsilon es el error o la desviación estandar"
      ],
      "metadata": {
        "id": "hXg99XVbCapT"
      }
    },
    {
      "cell_type": "markdown",
      "source": [
        "Luego le damos un valor de $\\epsilon$ podemos calcular el valor de N"
      ],
      "metadata": {
        "id": "IeWs8oeOCafb"
      }
    }
  ]
}